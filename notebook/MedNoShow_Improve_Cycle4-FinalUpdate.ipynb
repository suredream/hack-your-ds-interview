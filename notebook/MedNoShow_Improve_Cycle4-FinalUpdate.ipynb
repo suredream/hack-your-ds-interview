{
 "cells": [
  {
   "cell_type": "markdown",
   "metadata": {},
   "source": [
    "## Predict No Show For Hospital Appointments (tang hong)\n",
    "### Data From IM Insurence\n",
    "Cycle 2: Not happy with the results. Non of the features has high enough impact on our classification \\\n",
    "Let's try some different approach to see if we can make difference\n",
    "\n"
   ]
  },
  {
   "cell_type": "markdown",
   "metadata": {},
   "source": [
    "###Steps to predict Hospital Noshow \\\n",
    "***step1:*** conda create -n carprediction python=3.8 \\\n",
    "***step2:*** activate carprediction \\\n",
    "   Cd /Users/hongtang/15_Mentoring_Videos/01_EndtoEnd_Project1 \\\n",
    "***step3:***ML modeling \\\n",
    "***step4:*** create requirement.txt in python \\\n",
    "    pip freeze >requirements.txt \\\n",
    "    Pip Install flask \\\n",
    "***step5:*** Run \"myapp.py\" in flask \\\n",
    "\t1.Need template; html file for a simple template interface\\\n",
    "\t2.Need pkl file from ML model \\\n",
    "***Step6:*** Predict function using the ML model\\\n",
    "\n",
    "\n",
    "\n",
    "Resources:https://medium.com/techcrush/how-to-deploy-your-ml-model-in-jupyter-notebook-to-your-flask-app-d1c4933b29b5\n",
    "https://www.youtube.com/watch?v=p_tpQSY1aTs\n",
    "https://stackoverflow.com/questions/48205495/python-how-to-run-multiple-flask-apps-from-same-client-machine\n",
    "\n",
    "future work: power BI deployment \n",
    "\n",
    "\n"
   ]
  },
  {
   "cell_type": "markdown",
   "metadata": {},
   "source": [
    "****Column,Description **** \\\n",
    "\\\n",
    "MemberID,Member ID \\\n",
    "AppointmentID,Appointment ID \\\n",
    "Gender,\"M = Male, F = Female\" \\\n",
    "ScheduledDay,Date the appointment was scheduled \\\n",
    "AppointmentDay,Actual appointment date \\\n",
    "Age,Age\\\n",
    "LocationID,Patient Geography ID\\\n",
    "MedicaidIND,\"1 = Medicaid patient, 0 = Non-Medicaid patient\"\\\n",
    "Hypertension,\"Hypertension indicator 1 = Yes, 0 = No\"\\\n",
    "Diabetes,\"Diabetes indicator 1 = Yes, 0 = No\"\\\n",
    "Alcoholism,\"Alcoholism indicator 1 = Yes, 0 = No\"\\\n",
    "Disability,\"Disability indicator 1 = Yes, 0 = No\"\\\n",
    "SMS_received,\"Text was sent to patient as an appointment reminder 1 = Yes, 0 = Yes\"\\\n",
    "No-show,\"Yes = Did not attend the appointment, No = Appoinment was kept\"\\"
   ]
  },
  {
   "cell_type": "markdown",
   "metadata": {},
   "source": [
    "Future Steps?\n",
    "Recommendation?\n",
    "ACtion items:\n",
    "    Randomeforest variable influence plot -Xu ren\n",
    "    Extract Month, interaction terms of features\n",
    "    Chi-Square test\n",
    "    \n"
   ]
  },
  {
   "cell_type": "code",
   "execution_count": 24,
   "metadata": {},
   "outputs": [],
   "source": [
    "import pandas as pd\n",
    "import numpy as np\n",
    "import matplotlib.pyplot as plt\n",
    "import seaborn as sns\n",
    "%matplotlib inline"
   ]
  },
  {
   "cell_type": "code",
   "execution_count": 25,
   "metadata": {},
   "outputs": [],
   "source": [
    "df=pd.read_csv('Medical_No_Shows.csv')"
   ]
  },
  {
   "cell_type": "code",
   "execution_count": 26,
   "metadata": {},
   "outputs": [
    {
     "data": {
      "text/plain": [
       "(110527, 14)"
      ]
     },
     "execution_count": 26,
     "metadata": {},
     "output_type": "execute_result"
    }
   ],
   "source": [
    "df.shape"
   ]
  },
  {
   "cell_type": "code",
   "execution_count": 27,
   "metadata": {
    "scrolled": true
   },
   "outputs": [
    {
     "data": {
      "text/html": [
       "<div>\n",
       "<style scoped>\n",
       "    .dataframe tbody tr th:only-of-type {\n",
       "        vertical-align: middle;\n",
       "    }\n",
       "\n",
       "    .dataframe tbody tr th {\n",
       "        vertical-align: top;\n",
       "    }\n",
       "\n",
       "    .dataframe thead th {\n",
       "        text-align: right;\n",
       "    }\n",
       "</style>\n",
       "<table border=\"1\" class=\"dataframe\">\n",
       "  <thead>\n",
       "    <tr style=\"text-align: right;\">\n",
       "      <th></th>\n",
       "      <th>PatientID</th>\n",
       "      <th>AppointmentID</th>\n",
       "      <th>Gender</th>\n",
       "      <th>ScheduledDay</th>\n",
       "      <th>AppointmentDay</th>\n",
       "      <th>Age</th>\n",
       "      <th>LocationID</th>\n",
       "      <th>MedicaidIND</th>\n",
       "      <th>Hypertension</th>\n",
       "      <th>Diabetes</th>\n",
       "      <th>Alcoholism</th>\n",
       "      <th>Disability</th>\n",
       "      <th>SMS_received</th>\n",
       "      <th>No-show</th>\n",
       "    </tr>\n",
       "  </thead>\n",
       "  <tbody>\n",
       "    <tr>\n",
       "      <th>0</th>\n",
       "      <td>#29872499824296</td>\n",
       "      <td>5642903</td>\n",
       "      <td>F</td>\n",
       "      <td>2016-04-29T18:38:08Z</td>\n",
       "      <td>2016-04-29T00:00:00Z</td>\n",
       "      <td>62</td>\n",
       "      <td>40</td>\n",
       "      <td>0</td>\n",
       "      <td>1</td>\n",
       "      <td>0</td>\n",
       "      <td>0</td>\n",
       "      <td>0</td>\n",
       "      <td>0</td>\n",
       "      <td>No</td>\n",
       "    </tr>\n",
       "    <tr>\n",
       "      <th>1</th>\n",
       "      <td>#558997776694438</td>\n",
       "      <td>5642503</td>\n",
       "      <td>M</td>\n",
       "      <td>2016-04-29T16:08:27Z</td>\n",
       "      <td>2016-04-29T00:00:00Z</td>\n",
       "      <td>56</td>\n",
       "      <td>40</td>\n",
       "      <td>0</td>\n",
       "      <td>0</td>\n",
       "      <td>0</td>\n",
       "      <td>0</td>\n",
       "      <td>0</td>\n",
       "      <td>0</td>\n",
       "      <td>No</td>\n",
       "    </tr>\n",
       "    <tr>\n",
       "      <th>2</th>\n",
       "      <td>#4262962299951</td>\n",
       "      <td>5642549</td>\n",
       "      <td>F</td>\n",
       "      <td>2016-04-29T16:19:04Z</td>\n",
       "      <td>2016-04-29T00:00:00Z</td>\n",
       "      <td>62</td>\n",
       "      <td>47</td>\n",
       "      <td>0</td>\n",
       "      <td>0</td>\n",
       "      <td>0</td>\n",
       "      <td>0</td>\n",
       "      <td>0</td>\n",
       "      <td>0</td>\n",
       "      <td>No</td>\n",
       "    </tr>\n",
       "    <tr>\n",
       "      <th>3</th>\n",
       "      <td>#867951213174</td>\n",
       "      <td>5642828</td>\n",
       "      <td>F</td>\n",
       "      <td>2016-04-29T17:29:31Z</td>\n",
       "      <td>2016-04-29T00:00:00Z</td>\n",
       "      <td>8</td>\n",
       "      <td>55</td>\n",
       "      <td>0</td>\n",
       "      <td>0</td>\n",
       "      <td>0</td>\n",
       "      <td>0</td>\n",
       "      <td>0</td>\n",
       "      <td>0</td>\n",
       "      <td>No</td>\n",
       "    </tr>\n",
       "    <tr>\n",
       "      <th>4</th>\n",
       "      <td>#8841186448183</td>\n",
       "      <td>5642494</td>\n",
       "      <td>F</td>\n",
       "      <td>2016-04-29T16:07:23Z</td>\n",
       "      <td>2016-04-29T00:00:00Z</td>\n",
       "      <td>56</td>\n",
       "      <td>40</td>\n",
       "      <td>0</td>\n",
       "      <td>1</td>\n",
       "      <td>1</td>\n",
       "      <td>0</td>\n",
       "      <td>0</td>\n",
       "      <td>0</td>\n",
       "      <td>No</td>\n",
       "    </tr>\n",
       "  </tbody>\n",
       "</table>\n",
       "</div>"
      ],
      "text/plain": [
       "          PatientID  AppointmentID Gender          ScheduledDay  \\\n",
       "0   #29872499824296        5642903      F  2016-04-29T18:38:08Z   \n",
       "1  #558997776694438        5642503      M  2016-04-29T16:08:27Z   \n",
       "2    #4262962299951        5642549      F  2016-04-29T16:19:04Z   \n",
       "3     #867951213174        5642828      F  2016-04-29T17:29:31Z   \n",
       "4    #8841186448183        5642494      F  2016-04-29T16:07:23Z   \n",
       "\n",
       "         AppointmentDay  Age  LocationID  MedicaidIND  Hypertension  Diabetes  \\\n",
       "0  2016-04-29T00:00:00Z   62          40            0             1         0   \n",
       "1  2016-04-29T00:00:00Z   56          40            0             0         0   \n",
       "2  2016-04-29T00:00:00Z   62          47            0             0         0   \n",
       "3  2016-04-29T00:00:00Z    8          55            0             0         0   \n",
       "4  2016-04-29T00:00:00Z   56          40            0             1         1   \n",
       "\n",
       "   Alcoholism  Disability  SMS_received No-show  \n",
       "0           0           0             0      No  \n",
       "1           0           0             0      No  \n",
       "2           0           0             0      No  \n",
       "3           0           0             0      No  \n",
       "4           0           0             0      No  "
      ]
     },
     "execution_count": 27,
     "metadata": {},
     "output_type": "execute_result"
    }
   ],
   "source": [
    "df.head()"
   ]
  },
  {
   "cell_type": "code",
   "execution_count": 28,
   "metadata": {},
   "outputs": [
    {
     "data": {
      "text/plain": [
       "PatientID         0\n",
       "AppointmentID     0\n",
       "Gender            0\n",
       "ScheduledDay      0\n",
       "AppointmentDay    0\n",
       "Age               0\n",
       "LocationID        0\n",
       "MedicaidIND       0\n",
       "Hypertension      0\n",
       "Diabetes          0\n",
       "Alcoholism        0\n",
       "Disability        0\n",
       "SMS_received      0\n",
       "No-show           0\n",
       "dtype: int64"
      ]
     },
     "execution_count": 28,
     "metadata": {},
     "output_type": "execute_result"
    }
   ],
   "source": [
    "##check missing values\n",
    "df.isnull().sum()"
   ]
  },
  {
   "cell_type": "code",
   "execution_count": 29,
   "metadata": {},
   "outputs": [
    {
     "name": "stdout",
     "output_type": "stream",
     "text": [
      "<class 'pandas.core.frame.DataFrame'>\n",
      "RangeIndex: 110527 entries, 0 to 110526\n",
      "Data columns (total 14 columns):\n",
      " #   Column          Non-Null Count   Dtype \n",
      "---  ------          --------------   ----- \n",
      " 0   PatientID       110527 non-null  object\n",
      " 1   AppointmentID   110527 non-null  int64 \n",
      " 2   Gender          110527 non-null  object\n",
      " 3   ScheduledDay    110527 non-null  object\n",
      " 4   AppointmentDay  110527 non-null  object\n",
      " 5   Age             110527 non-null  int64 \n",
      " 6   LocationID      110527 non-null  int64 \n",
      " 7   MedicaidIND     110527 non-null  int64 \n",
      " 8   Hypertension    110527 non-null  int64 \n",
      " 9   Diabetes        110527 non-null  int64 \n",
      " 10  Alcoholism      110527 non-null  int64 \n",
      " 11  Disability      110527 non-null  int64 \n",
      " 12  SMS_received    110527 non-null  int64 \n",
      " 13  No-show         110527 non-null  object\n",
      "dtypes: int64(9), object(5)\n",
      "memory usage: 11.8+ MB\n"
     ]
    }
   ],
   "source": [
    "df.describe()\n",
    "df.columns\n",
    "df.info()"
   ]
  },
  {
   "cell_type": "code",
   "execution_count": 30,
   "metadata": {
    "scrolled": true
   },
   "outputs": [
    {
     "name": "stdout",
     "output_type": "stream",
     "text": [
      "['F' 'M']\n",
      "[40 47 55 59 26  2 13 51 16 79  7 65 71 63 46 27 62 30 73 78  9 39 45 38\n",
      "  3 60 31 43 48 44 74  6 57 68 37 36 80 64 58 67 11 53 19 75 10  4 33 28\n",
      " 42 14 56  8 49 70 69  5 22 24 23 21 76 54 41 72 15 34 61 12 66 81 17 20\n",
      " 18 29 77 32 25 50  1 35 52]\n",
      "[0 1]\n",
      "[1 0]\n",
      "[0 1]\n",
      "[0 1]\n",
      "[0 1 2 3 4]\n",
      "[0 1]\n",
      "['No' 'Yes']\n"
     ]
    }
   ],
   "source": [
    "print(df['Gender'].unique())\n",
    "print(df['LocationID'].unique())\n",
    "print(df['MedicaidIND'].unique())\n",
    "print(df['Hypertension'].unique())\n",
    "print(df['Diabetes'].unique())\n",
    "print(df['Alcoholism'].unique())\n",
    "print(df['Disability'].unique())\n",
    "print(df['SMS_received'].unique())\n",
    "print(df['No-show'].unique())"
   ]
  },
  {
   "cell_type": "markdown",
   "metadata": {},
   "source": [
    "### Time Series"
   ]
  },
  {
   "cell_type": "code",
   "execution_count": 31,
   "metadata": {},
   "outputs": [],
   "source": [
    "#convert time into timestamp\n",
    "df.ScheduledDay=pd.to_datetime(df.ScheduledDay)\n",
    "df.AppointmentDay=pd.to_datetime(df.AppointmentDay)\n"
   ]
  },
  {
   "cell_type": "code",
   "execution_count": 32,
   "metadata": {},
   "outputs": [
    {
     "name": "stdout",
     "output_type": "stream",
     "text": [
      "2016-04-29 00:00:00+00:00 2016-06-08 00:00:00+00:00\n",
      "2015-11-10 07:13:56+00:00 2016-06-08 20:07:23+00:00\n"
     ]
    }
   ],
   "source": [
    "\n",
    "# time of the day\n",
    "print(min(df.AppointmentDay), max(df.AppointmentDay))\n",
    "print(min(df.ScheduledDay),max(df.ScheduledDay))\n"
   ]
  },
  {
   "cell_type": "code",
   "execution_count": 33,
   "metadata": {},
   "outputs": [],
   "source": [
    "def Noshowind(x):\n",
    "    if x=='No': return 0\n",
    "    else: return 1"
   ]
  },
  {
   "cell_type": "code",
   "execution_count": 34,
   "metadata": {
    "scrolled": true
   },
   "outputs": [
    {
     "data": {
      "text/plain": [
       "<AxesSubplot:xlabel='AppointmentDay'>"
      ]
     },
     "execution_count": 34,
     "metadata": {},
     "output_type": "execute_result"
    },
    {
     "data": {
      "image/png": "[encoded data removed]",
      "text/plain": [
       "<Figure size 432x288 with 1 Axes>"
      ]
     },
     "metadata": {
      "needs_background": "light"
     },
     "output_type": "display_data"
    }
   ],
   "source": [
    "Appt_No_show=df['No-show'].apply(lambda x:Noshowind(x))\n",
    "Appt_No_show.index = df['AppointmentDay']\n",
    "Appt_No_show.plot()"
   ]
  },
  {
   "cell_type": "code",
   "execution_count": 35,
   "metadata": {},
   "outputs": [],
   "source": [
    "# final[\"appt_wd\"].value_counts()\n",
    "# create feature of week day\n",
    "final=pd.DataFrame()\n",
    "Appt_weekday = df['AppointmentDay'].dt.day_name()\n",
    "Scheduled_weekday=df['ScheduledDay'].dt.day_name()\n",
    "\n",
    "#prepare countplot\n",
    "final = pd.DataFrame(list(zip(Appt_weekday, Scheduled_weekday,Appt_No_show)), columns =['appt_wd', 'schedule_wd','Noshow'])\n",
    "final['no_show']=df[['No-show']]"
   ]
  },
  {
   "cell_type": "code",
   "execution_count": 36,
   "metadata": {},
   "outputs": [],
   "source": [
    "Scheduled_Month=df['ScheduledDay'].dt.month\n",
    "final['Month']=Scheduled_Month"
   ]
  },
  {
   "cell_type": "code",
   "execution_count": 37,
   "metadata": {
    "scrolled": true
   },
   "outputs": [
    {
     "data": {
      "text/html": [
       "<div>\n",
       "<style scoped>\n",
       "    .dataframe tbody tr th:only-of-type {\n",
       "        vertical-align: middle;\n",
       "    }\n",
       "\n",
       "    .dataframe tbody tr th {\n",
       "        vertical-align: top;\n",
       "    }\n",
       "\n",
       "    .dataframe thead th {\n",
       "        text-align: right;\n",
       "    }\n",
       "</style>\n",
       "<table border=\"1\" class=\"dataframe\">\n",
       "  <thead>\n",
       "    <tr style=\"text-align: right;\">\n",
       "      <th></th>\n",
       "      <th>appt_wd</th>\n",
       "      <th>schedule_wd</th>\n",
       "      <th>Noshow</th>\n",
       "      <th>no_show</th>\n",
       "      <th>Month</th>\n",
       "    </tr>\n",
       "  </thead>\n",
       "  <tbody>\n",
       "    <tr>\n",
       "      <th>0</th>\n",
       "      <td>Friday</td>\n",
       "      <td>Friday</td>\n",
       "      <td>0</td>\n",
       "      <td>No</td>\n",
       "      <td>4</td>\n",
       "    </tr>\n",
       "    <tr>\n",
       "      <th>1</th>\n",
       "      <td>Friday</td>\n",
       "      <td>Friday</td>\n",
       "      <td>0</td>\n",
       "      <td>No</td>\n",
       "      <td>4</td>\n",
       "    </tr>\n",
       "    <tr>\n",
       "      <th>2</th>\n",
       "      <td>Friday</td>\n",
       "      <td>Friday</td>\n",
       "      <td>0</td>\n",
       "      <td>No</td>\n",
       "      <td>4</td>\n",
       "    </tr>\n",
       "    <tr>\n",
       "      <th>3</th>\n",
       "      <td>Friday</td>\n",
       "      <td>Friday</td>\n",
       "      <td>0</td>\n",
       "      <td>No</td>\n",
       "      <td>4</td>\n",
       "    </tr>\n",
       "    <tr>\n",
       "      <th>4</th>\n",
       "      <td>Friday</td>\n",
       "      <td>Friday</td>\n",
       "      <td>0</td>\n",
       "      <td>No</td>\n",
       "      <td>4</td>\n",
       "    </tr>\n",
       "    <tr>\n",
       "      <th>...</th>\n",
       "      <td>...</td>\n",
       "      <td>...</td>\n",
       "      <td>...</td>\n",
       "      <td>...</td>\n",
       "      <td>...</td>\n",
       "    </tr>\n",
       "    <tr>\n",
       "      <th>110522</th>\n",
       "      <td>Tuesday</td>\n",
       "      <td>Tuesday</td>\n",
       "      <td>0</td>\n",
       "      <td>No</td>\n",
       "      <td>5</td>\n",
       "    </tr>\n",
       "    <tr>\n",
       "      <th>110523</th>\n",
       "      <td>Tuesday</td>\n",
       "      <td>Tuesday</td>\n",
       "      <td>0</td>\n",
       "      <td>No</td>\n",
       "      <td>5</td>\n",
       "    </tr>\n",
       "    <tr>\n",
       "      <th>110524</th>\n",
       "      <td>Tuesday</td>\n",
       "      <td>Wednesday</td>\n",
       "      <td>0</td>\n",
       "      <td>No</td>\n",
       "      <td>4</td>\n",
       "    </tr>\n",
       "    <tr>\n",
       "      <th>110525</th>\n",
       "      <td>Tuesday</td>\n",
       "      <td>Wednesday</td>\n",
       "      <td>0</td>\n",
       "      <td>No</td>\n",
       "      <td>4</td>\n",
       "    </tr>\n",
       "    <tr>\n",
       "      <th>110526</th>\n",
       "      <td>Tuesday</td>\n",
       "      <td>Wednesday</td>\n",
       "      <td>0</td>\n",
       "      <td>No</td>\n",
       "      <td>4</td>\n",
       "    </tr>\n",
       "  </tbody>\n",
       "</table>\n",
       "<p>110527 rows × 5 columns</p>\n",
       "</div>"
      ],
      "text/plain": [
       "        appt_wd schedule_wd  Noshow no_show  Month\n",
       "0        Friday      Friday       0      No      4\n",
       "1        Friday      Friday       0      No      4\n",
       "2        Friday      Friday       0      No      4\n",
       "3        Friday      Friday       0      No      4\n",
       "4        Friday      Friday       0      No      4\n",
       "...         ...         ...     ...     ...    ...\n",
       "110522  Tuesday     Tuesday       0      No      5\n",
       "110523  Tuesday     Tuesday       0      No      5\n",
       "110524  Tuesday   Wednesday       0      No      4\n",
       "110525  Tuesday   Wednesday       0      No      4\n",
       "110526  Tuesday   Wednesday       0      No      4\n",
       "\n",
       "[110527 rows x 5 columns]"
      ]
     },
     "execution_count": 37,
     "metadata": {},
     "output_type": "execute_result"
    }
   ],
   "source": [
    "final"
   ]
  },
  {
   "cell_type": "code",
   "execution_count": 38,
   "metadata": {
    "scrolled": true
   },
   "outputs": [
    {
     "data": {
      "image/png": "[encoded data removed]",
      "text/plain": [
       "<Figure size 432x288 with 1 Axes>"
      ]
     },
     "metadata": {
      "needs_background": "light"
     },
     "output_type": "display_data"
    }
   ],
   "source": [
    "ax=sns.countplot(x=\"appt_wd\", order=['Monday','Tuesday','Wednesday','Thursday','Friday'], data=final,palette='rainbow')\n",
    "for p, label in zip(ax.patches, final[\"appt_wd\"].value_counts()):\n",
    "     ax.annotate(label, (p.get_x()+0.2, p.get_height()+0.15))"
   ]
  },
  {
   "cell_type": "code",
   "execution_count": 39,
   "metadata": {},
   "outputs": [],
   "source": [
    "# final[\"appt_wd\"]"
   ]
  },
  {
   "cell_type": "code",
   "execution_count": 40,
   "metadata": {},
   "outputs": [
    {
     "data": {
      "text/plain": [
       "array(['Friday', 'Tuesday', 'Monday', 'Wednesday', 'Thursday', 'Saturday'],\n",
       "      dtype=object)"
      ]
     },
     "execution_count": 40,
     "metadata": {},
     "output_type": "execute_result"
    }
   ],
   "source": [
    "pltpct=pd.DataFrame(final[\"appt_wd\"].value_counts() / len(final))\n",
    "# pltpct.index=['a','b''c','d','e','r']\n",
    "'Monday','Tuesday','Wednesday','Thursday','Friday'\n",
    "final[\"appt_wd\"].unique()"
   ]
  },
  {
   "cell_type": "code",
   "execution_count": 41,
   "metadata": {},
   "outputs": [
    {
     "data": {
      "text/plain": [
       "<AxesSubplot:>"
      ]
     },
     "execution_count": 41,
     "metadata": {},
     "output_type": "execute_result"
    },
    {
     "data": {
      "image/png": "[encoded data removed]",
      "text/plain": [
       "<Figure size 432x288 with 1 Axes>"
      ]
     },
     "metadata": {
      "needs_background": "light"
     },
     "output_type": "display_data"
    }
   ],
   "source": [
    "sns.histplot()"
   ]
  },
  {
   "cell_type": "code",
   "execution_count": 42,
   "metadata": {
    "scrolled": false
   },
   "outputs": [
    {
     "data": {
      "image/png": "[encoded data removed]",
      "text/plain": [
       "<Figure size 432x288 with 1 Axes>"
      ]
     },
     "metadata": {
      "needs_background": "light"
     },
     "output_type": "display_data"
    }
   ],
   "source": [
    "finalns=final[final['no_show']=='No']\n",
    "\n",
    "ax=sns.countplot(x=\"schedule_wd\", order=['Monday','Tuesday','Wednesday','Thursday','Friday'], data=finalns,palette='rainbow')\n",
    "for p, label in zip(ax.patches, finalns[\"schedule_wd\"].value_counts()):\n",
    "     ax.annotate(label, (p.get_x()+0.2, p.get_height()+0.15))"
   ]
  },
  {
   "cell_type": "markdown",
   "metadata": {},
   "source": [
    "####  Appt and Schedule on Monday -Wednesday tend to have higher no show no"
   ]
  },
  {
   "cell_type": "code",
   "execution_count": 43,
   "metadata": {
    "scrolled": true
   },
   "outputs": [
    {
     "data": {
      "text/html": [
       "<div>\n",
       "<style scoped>\n",
       "    .dataframe tbody tr th:only-of-type {\n",
       "        vertical-align: middle;\n",
       "    }\n",
       "\n",
       "    .dataframe tbody tr th {\n",
       "        vertical-align: top;\n",
       "    }\n",
       "\n",
       "    .dataframe thead th {\n",
       "        text-align: right;\n",
       "    }\n",
       "</style>\n",
       "<table border=\"1\" class=\"dataframe\">\n",
       "  <thead>\n",
       "    <tr style=\"text-align: right;\">\n",
       "      <th></th>\n",
       "      <th>Noshow</th>\n",
       "      <th>Month</th>\n",
       "    </tr>\n",
       "  </thead>\n",
       "  <tbody>\n",
       "    <tr>\n",
       "      <th>count</th>\n",
       "      <td>110527.000000</td>\n",
       "      <td>110527.000000</td>\n",
       "    </tr>\n",
       "    <tr>\n",
       "      <th>mean</th>\n",
       "      <td>0.201933</td>\n",
       "      <td>4.823871</td>\n",
       "    </tr>\n",
       "    <tr>\n",
       "      <th>std</th>\n",
       "      <td>0.401444</td>\n",
       "      <td>0.715801</td>\n",
       "    </tr>\n",
       "    <tr>\n",
       "      <th>min</th>\n",
       "      <td>0.000000</td>\n",
       "      <td>1.000000</td>\n",
       "    </tr>\n",
       "    <tr>\n",
       "      <th>25%</th>\n",
       "      <td>0.000000</td>\n",
       "      <td>4.000000</td>\n",
       "    </tr>\n",
       "    <tr>\n",
       "      <th>50%</th>\n",
       "      <td>0.000000</td>\n",
       "      <td>5.000000</td>\n",
       "    </tr>\n",
       "    <tr>\n",
       "      <th>75%</th>\n",
       "      <td>0.000000</td>\n",
       "      <td>5.000000</td>\n",
       "    </tr>\n",
       "    <tr>\n",
       "      <th>max</th>\n",
       "      <td>1.000000</td>\n",
       "      <td>12.000000</td>\n",
       "    </tr>\n",
       "  </tbody>\n",
       "</table>\n",
       "</div>"
      ],
      "text/plain": [
       "              Noshow          Month\n",
       "count  110527.000000  110527.000000\n",
       "mean        0.201933       4.823871\n",
       "std         0.401444       0.715801\n",
       "min         0.000000       1.000000\n",
       "25%         0.000000       4.000000\n",
       "50%         0.000000       5.000000\n",
       "75%         0.000000       5.000000\n",
       "max         1.000000      12.000000"
      ]
     },
     "execution_count": 43,
     "metadata": {},
     "output_type": "execute_result"
    }
   ],
   "source": [
    "final.describe()"
   ]
  },
  {
   "cell_type": "code",
   "execution_count": 44,
   "metadata": {},
   "outputs": [],
   "source": [
    "# difference of the appointment-schedule day\n",
    "ScheduledDay=pd.to_datetime(df.ScheduledDay)\n",
    "AppointmentDay=pd.to_datetime(df.AppointmentDay)\n",
    "df['time_diff_days']=abs(AppointmentDay-ScheduledDay).dt.days\n"
   ]
  },
  {
   "cell_type": "code",
   "execution_count": 45,
   "metadata": {
    "scrolled": false
   },
   "outputs": [
    {
     "data": {
      "text/plain": [
       "<Figure size 7200x14400 with 0 Axes>"
      ]
     },
     "execution_count": 45,
     "metadata": {},
     "output_type": "execute_result"
    },
    {
     "data": {
      "image/png": "[encoded data removed]",
      "text/plain": [
       "<Figure size 432x288 with 1 Axes>"
      ]
     },
     "metadata": {
      "needs_background": "light"
     },
     "output_type": "display_data"
    },
    {
     "data": {
      "text/plain": [
       "<Figure size 7200x14400 with 0 Axes>"
      ]
     },
     "metadata": {},
     "output_type": "display_data"
    }
   ],
   "source": [
    "final['ApptDaysAfterSchedule']=df[['time_diff_days']]\n",
    "ax=sns.violinplot(x='no_show', y='ApptDaysAfterSchedule', data=final, palette='rainbow')\n",
    "ax.set(ylim=(0, 75))\n",
    "plt.figure(figsize=(100,200))"
   ]
  },
  {
   "cell_type": "code",
   "execution_count": 47,
   "metadata": {},
   "outputs": [
    {
     "data": {
      "text/plain": [
       "Index(['appt_wd', 'schedule_wd', 'Noshow', 'no_show', 'Month',\n",
       "       'ApptDaysAfterSchedule'],\n",
       "      dtype='object')"
      ]
     },
     "execution_count": 47,
     "metadata": {},
     "output_type": "execute_result"
    }
   ],
   "source": [
    "#add month to final_dataset or df\n",
    "df['Month']=final['Month']\n",
    "final.columns"
   ]
  },
  {
   "cell_type": "markdown",
   "metadata": {},
   "source": [
    "***Figure:***\n",
    "The violinplot show the longer the waiting time, higher chance for no show"
   ]
  },
  {
   "cell_type": "markdown",
   "metadata": {},
   "source": [
    "### EDA Analysis"
   ]
  },
  {
   "cell_type": "code",
   "execution_count": 48,
   "metadata": {},
   "outputs": [],
   "source": [
    "#Histogram plots with different hue, change on percentage"
   ]
  },
  {
   "cell_type": "code",
   "execution_count": 49,
   "metadata": {},
   "outputs": [],
   "source": [
    "final_dataset=df[['PatientID','AppointmentID', 'Gender', 'ScheduledDay',\n",
    "       'AppointmentDay', 'Age', 'LocationID', 'MedicaidIND', 'Hypertension',\n",
    "       'Diabetes', 'Alcoholism', 'Disability', 'SMS_received', 'No-show',\n",
    "       'time_diff_days','Month']]"
   ]
  },
  {
   "cell_type": "code",
   "execution_count": 50,
   "metadata": {},
   "outputs": [
    {
     "data": {
      "text/plain": [
       "<AxesSubplot:xlabel='Disability', ylabel='count'>"
      ]
     },
     "execution_count": 50,
     "metadata": {},
     "output_type": "execute_result"
    },
    {
     "data": {
      "image/png": "[encoded data removed]",
      "text/plain": [
       "<Figure size 360x144 with 1 Axes>"
      ]
     },
     "metadata": {
      "needs_background": "light"
     },
     "output_type": "display_data"
    }
   ],
   "source": [
    "plt.figure(figsize=(5,2))\n",
    "sns.countplot(x='Disability',hue='No-show',data=final_dataset,palette='Set1')"
   ]
  },
  {
   "cell_type": "code",
   "execution_count": 51,
   "metadata": {},
   "outputs": [
    {
     "data": {
      "text/html": [
       "<div>\n",
       "<style scoped>\n",
       "    .dataframe tbody tr th:only-of-type {\n",
       "        vertical-align: middle;\n",
       "    }\n",
       "\n",
       "    .dataframe tbody tr th {\n",
       "        vertical-align: top;\n",
       "    }\n",
       "\n",
       "    .dataframe thead th {\n",
       "        text-align: right;\n",
       "    }\n",
       "</style>\n",
       "<table border=\"1\" class=\"dataframe\">\n",
       "  <thead>\n",
       "    <tr style=\"text-align: right;\">\n",
       "      <th></th>\n",
       "      <th>PatientID</th>\n",
       "      <th>AppointmentID</th>\n",
       "      <th>Gender</th>\n",
       "      <th>ScheduledDay</th>\n",
       "      <th>AppointmentDay</th>\n",
       "      <th>Age</th>\n",
       "      <th>LocationID</th>\n",
       "      <th>MedicaidIND</th>\n",
       "      <th>Hypertension</th>\n",
       "      <th>Diabetes</th>\n",
       "      <th>Alcoholism</th>\n",
       "      <th>Disability</th>\n",
       "      <th>SMS_received</th>\n",
       "      <th>No-show</th>\n",
       "      <th>time_diff_days</th>\n",
       "      <th>Month</th>\n",
       "    </tr>\n",
       "  </thead>\n",
       "  <tbody>\n",
       "    <tr>\n",
       "      <th>0</th>\n",
       "      <td>#29872499824296</td>\n",
       "      <td>5642903</td>\n",
       "      <td>F</td>\n",
       "      <td>2016-04-29 18:38:08+00:00</td>\n",
       "      <td>2016-04-29 00:00:00+00:00</td>\n",
       "      <td>62</td>\n",
       "      <td>40</td>\n",
       "      <td>0</td>\n",
       "      <td>1</td>\n",
       "      <td>0</td>\n",
       "      <td>0</td>\n",
       "      <td>0</td>\n",
       "      <td>0</td>\n",
       "      <td>No</td>\n",
       "      <td>0</td>\n",
       "      <td>4</td>\n",
       "    </tr>\n",
       "    <tr>\n",
       "      <th>1</th>\n",
       "      <td>#558997776694438</td>\n",
       "      <td>5642503</td>\n",
       "      <td>M</td>\n",
       "      <td>2016-04-29 16:08:27+00:00</td>\n",
       "      <td>2016-04-29 00:00:00+00:00</td>\n",
       "      <td>56</td>\n",
       "      <td>40</td>\n",
       "      <td>0</td>\n",
       "      <td>0</td>\n",
       "      <td>0</td>\n",
       "      <td>0</td>\n",
       "      <td>0</td>\n",
       "      <td>0</td>\n",
       "      <td>No</td>\n",
       "      <td>0</td>\n",
       "      <td>4</td>\n",
       "    </tr>\n",
       "    <tr>\n",
       "      <th>2</th>\n",
       "      <td>#4262962299951</td>\n",
       "      <td>5642549</td>\n",
       "      <td>F</td>\n",
       "      <td>2016-04-29 16:19:04+00:00</td>\n",
       "      <td>2016-04-29 00:00:00+00:00</td>\n",
       "      <td>62</td>\n",
       "      <td>47</td>\n",
       "      <td>0</td>\n",
       "      <td>0</td>\n",
       "      <td>0</td>\n",
       "      <td>0</td>\n",
       "      <td>0</td>\n",
       "      <td>0</td>\n",
       "      <td>No</td>\n",
       "      <td>0</td>\n",
       "      <td>4</td>\n",
       "    </tr>\n",
       "    <tr>\n",
       "      <th>3</th>\n",
       "      <td>#867951213174</td>\n",
       "      <td>5642828</td>\n",
       "      <td>F</td>\n",
       "      <td>2016-04-29 17:29:31+00:00</td>\n",
       "      <td>2016-04-29 00:00:00+00:00</td>\n",
       "      <td>8</td>\n",
       "      <td>55</td>\n",
       "      <td>0</td>\n",
       "      <td>0</td>\n",
       "      <td>0</td>\n",
       "      <td>0</td>\n",
       "      <td>0</td>\n",
       "      <td>0</td>\n",
       "      <td>No</td>\n",
       "      <td>0</td>\n",
       "      <td>4</td>\n",
       "    </tr>\n",
       "    <tr>\n",
       "      <th>4</th>\n",
       "      <td>#8841186448183</td>\n",
       "      <td>5642494</td>\n",
       "      <td>F</td>\n",
       "      <td>2016-04-29 16:07:23+00:00</td>\n",
       "      <td>2016-04-29 00:00:00+00:00</td>\n",
       "      <td>56</td>\n",
       "      <td>40</td>\n",
       "      <td>0</td>\n",
       "      <td>1</td>\n",
       "      <td>1</td>\n",
       "      <td>0</td>\n",
       "      <td>0</td>\n",
       "      <td>0</td>\n",
       "      <td>No</td>\n",
       "      <td>0</td>\n",
       "      <td>4</td>\n",
       "    </tr>\n",
       "  </tbody>\n",
       "</table>\n",
       "</div>"
      ],
      "text/plain": [
       "          PatientID  AppointmentID Gender              ScheduledDay  \\\n",
       "0   #29872499824296        5642903      F 2016-04-29 18:38:08+00:00   \n",
       "1  #558997776694438        5642503      M 2016-04-29 16:08:27+00:00   \n",
       "2    #4262962299951        5642549      F 2016-04-29 16:19:04+00:00   \n",
       "3     #867951213174        5642828      F 2016-04-29 17:29:31+00:00   \n",
       "4    #8841186448183        5642494      F 2016-04-29 16:07:23+00:00   \n",
       "\n",
       "             AppointmentDay  Age  LocationID  MedicaidIND  Hypertension  \\\n",
       "0 2016-04-29 00:00:00+00:00   62          40            0             1   \n",
       "1 2016-04-29 00:00:00+00:00   56          40            0             0   \n",
       "2 2016-04-29 00:00:00+00:00   62          47            0             0   \n",
       "3 2016-04-29 00:00:00+00:00    8          55            0             0   \n",
       "4 2016-04-29 00:00:00+00:00   56          40            0             1   \n",
       "\n",
       "   Diabetes  Alcoholism  Disability  SMS_received No-show  time_diff_days  \\\n",
       "0         0           0           0             0      No               0   \n",
       "1         0           0           0             0      No               0   \n",
       "2         0           0           0             0      No               0   \n",
       "3         0           0           0             0      No               0   \n",
       "4         1           0           0             0      No               0   \n",
       "\n",
       "   Month  \n",
       "0      4  \n",
       "1      4  \n",
       "2      4  \n",
       "3      4  \n",
       "4      4  "
      ]
     },
     "execution_count": 51,
     "metadata": {},
     "output_type": "execute_result"
    }
   ],
   "source": [
    "final_dataset.head()"
   ]
  },
  {
   "cell_type": "markdown",
   "metadata": {},
   "source": [
    "### EDA and Feature Engineering"
   ]
  },
  {
   "cell_type": "code",
   "execution_count": 52,
   "metadata": {},
   "outputs": [],
   "source": [
    "def ConvNoshow(x):\n",
    "    if x=='Yes': return 1\n",
    "    else: return 0\n",
    "final_dataset['NoShow']=final_dataset['No-show'].apply(ConvNoshow)\n",
    "final_dataset.drop(['No-show'],axis=1,inplace=True)"
   ]
  },
  {
   "cell_type": "code",
   "execution_count": 53,
   "metadata": {},
   "outputs": [],
   "source": [
    "def ConvGender(x):\n",
    "    if x=='M': return 1\n",
    "    else: return 0\n",
    "final_dataset['GenderC']=final_dataset['Gender'].apply(ConvGender)\n",
    "final_dataset.drop(['Gender'],axis=1,inplace=True)"
   ]
  },
  {
   "cell_type": "code",
   "execution_count": 54,
   "metadata": {},
   "outputs": [
    {
     "data": {
      "text/html": [
       "<div>\n",
       "<style scoped>\n",
       "    .dataframe tbody tr th:only-of-type {\n",
       "        vertical-align: middle;\n",
       "    }\n",
       "\n",
       "    .dataframe tbody tr th {\n",
       "        vertical-align: top;\n",
       "    }\n",
       "\n",
       "    .dataframe thead th {\n",
       "        text-align: right;\n",
       "    }\n",
       "</style>\n",
       "<table border=\"1\" class=\"dataframe\">\n",
       "  <thead>\n",
       "    <tr style=\"text-align: right;\">\n",
       "      <th></th>\n",
       "      <th>PatientID</th>\n",
       "      <th>AppointmentID</th>\n",
       "      <th>ScheduledDay</th>\n",
       "      <th>AppointmentDay</th>\n",
       "      <th>Age</th>\n",
       "      <th>LocationID</th>\n",
       "      <th>MedicaidIND</th>\n",
       "      <th>Hypertension</th>\n",
       "      <th>Diabetes</th>\n",
       "      <th>Alcoholism</th>\n",
       "      <th>Disability</th>\n",
       "      <th>SMS_received</th>\n",
       "      <th>time_diff_days</th>\n",
       "      <th>Month</th>\n",
       "      <th>NoShow</th>\n",
       "      <th>GenderC</th>\n",
       "    </tr>\n",
       "  </thead>\n",
       "  <tbody>\n",
       "    <tr>\n",
       "      <th>0</th>\n",
       "      <td>#29872499824296</td>\n",
       "      <td>5642903</td>\n",
       "      <td>2016-04-29 18:38:08+00:00</td>\n",
       "      <td>2016-04-29 00:00:00+00:00</td>\n",
       "      <td>62</td>\n",
       "      <td>40</td>\n",
       "      <td>0</td>\n",
       "      <td>1</td>\n",
       "      <td>0</td>\n",
       "      <td>0</td>\n",
       "      <td>0</td>\n",
       "      <td>0</td>\n",
       "      <td>0</td>\n",
       "      <td>4</td>\n",
       "      <td>0</td>\n",
       "      <td>0</td>\n",
       "    </tr>\n",
       "    <tr>\n",
       "      <th>1</th>\n",
       "      <td>#558997776694438</td>\n",
       "      <td>5642503</td>\n",
       "      <td>2016-04-29 16:08:27+00:00</td>\n",
       "      <td>2016-04-29 00:00:00+00:00</td>\n",
       "      <td>56</td>\n",
       "      <td>40</td>\n",
       "      <td>0</td>\n",
       "      <td>0</td>\n",
       "      <td>0</td>\n",
       "      <td>0</td>\n",
       "      <td>0</td>\n",
       "      <td>0</td>\n",
       "      <td>0</td>\n",
       "      <td>4</td>\n",
       "      <td>0</td>\n",
       "      <td>1</td>\n",
       "    </tr>\n",
       "    <tr>\n",
       "      <th>2</th>\n",
       "      <td>#4262962299951</td>\n",
       "      <td>5642549</td>\n",
       "      <td>2016-04-29 16:19:04+00:00</td>\n",
       "      <td>2016-04-29 00:00:00+00:00</td>\n",
       "      <td>62</td>\n",
       "      <td>47</td>\n",
       "      <td>0</td>\n",
       "      <td>0</td>\n",
       "      <td>0</td>\n",
       "      <td>0</td>\n",
       "      <td>0</td>\n",
       "      <td>0</td>\n",
       "      <td>0</td>\n",
       "      <td>4</td>\n",
       "      <td>0</td>\n",
       "      <td>0</td>\n",
       "    </tr>\n",
       "    <tr>\n",
       "      <th>3</th>\n",
       "      <td>#867951213174</td>\n",
       "      <td>5642828</td>\n",
       "      <td>2016-04-29 17:29:31+00:00</td>\n",
       "      <td>2016-04-29 00:00:00+00:00</td>\n",
       "      <td>8</td>\n",
       "      <td>55</td>\n",
       "      <td>0</td>\n",
       "      <td>0</td>\n",
       "      <td>0</td>\n",
       "      <td>0</td>\n",
       "      <td>0</td>\n",
       "      <td>0</td>\n",
       "      <td>0</td>\n",
       "      <td>4</td>\n",
       "      <td>0</td>\n",
       "      <td>0</td>\n",
       "    </tr>\n",
       "    <tr>\n",
       "      <th>4</th>\n",
       "      <td>#8841186448183</td>\n",
       "      <td>5642494</td>\n",
       "      <td>2016-04-29 16:07:23+00:00</td>\n",
       "      <td>2016-04-29 00:00:00+00:00</td>\n",
       "      <td>56</td>\n",
       "      <td>40</td>\n",
       "      <td>0</td>\n",
       "      <td>1</td>\n",
       "      <td>1</td>\n",
       "      <td>0</td>\n",
       "      <td>0</td>\n",
       "      <td>0</td>\n",
       "      <td>0</td>\n",
       "      <td>4</td>\n",
       "      <td>0</td>\n",
       "      <td>0</td>\n",
       "    </tr>\n",
       "  </tbody>\n",
       "</table>\n",
       "</div>"
      ],
      "text/plain": [
       "          PatientID  AppointmentID              ScheduledDay  \\\n",
       "0   #29872499824296        5642903 2016-04-29 18:38:08+00:00   \n",
       "1  #558997776694438        5642503 2016-04-29 16:08:27+00:00   \n",
       "2    #4262962299951        5642549 2016-04-29 16:19:04+00:00   \n",
       "3     #867951213174        5642828 2016-04-29 17:29:31+00:00   \n",
       "4    #8841186448183        5642494 2016-04-29 16:07:23+00:00   \n",
       "\n",
       "             AppointmentDay  Age  LocationID  MedicaidIND  Hypertension  \\\n",
       "0 2016-04-29 00:00:00+00:00   62          40            0             1   \n",
       "1 2016-04-29 00:00:00+00:00   56          40            0             0   \n",
       "2 2016-04-29 00:00:00+00:00   62          47            0             0   \n",
       "3 2016-04-29 00:00:00+00:00    8          55            0             0   \n",
       "4 2016-04-29 00:00:00+00:00   56          40            0             1   \n",
       "\n",
       "   Diabetes  Alcoholism  Disability  SMS_received  time_diff_days  Month  \\\n",
       "0         0           0           0             0               0      4   \n",
       "1         0           0           0             0               0      4   \n",
       "2         0           0           0             0               0      4   \n",
       "3         0           0           0             0               0      4   \n",
       "4         1           0           0             0               0      4   \n",
       "\n",
       "   NoShow  GenderC  \n",
       "0       0        0  \n",
       "1       0        1  \n",
       "2       0        0  \n",
       "3       0        0  \n",
       "4       0        0  "
      ]
     },
     "execution_count": 54,
     "metadata": {},
     "output_type": "execute_result"
    }
   ],
   "source": [
    "final_dataset.head()"
   ]
  },
  {
   "cell_type": "code",
   "execution_count": 55,
   "metadata": {},
   "outputs": [
    {
     "name": "stdout",
     "output_type": "stream",
     "text": [
      "<class 'pandas.core.frame.DataFrame'>\n",
      "RangeIndex: 110527 entries, 0 to 110526\n",
      "Data columns (total 16 columns):\n",
      " #   Column          Non-Null Count   Dtype              \n",
      "---  ------          --------------   -----              \n",
      " 0   PatientID       110527 non-null  object             \n",
      " 1   AppointmentID   110527 non-null  int64              \n",
      " 2   ScheduledDay    110527 non-null  datetime64[ns, UTC]\n",
      " 3   AppointmentDay  110527 non-null  datetime64[ns, UTC]\n",
      " 4   Age             110527 non-null  int64              \n",
      " 5   LocationID      110527 non-null  int64              \n",
      " 6   MedicaidIND     110527 non-null  int64              \n",
      " 7   Hypertension    110527 non-null  int64              \n",
      " 8   Diabetes        110527 non-null  int64              \n",
      " 9   Alcoholism      110527 non-null  int64              \n",
      " 10  Disability      110527 non-null  int64              \n",
      " 11  SMS_received    110527 non-null  int64              \n",
      " 12  time_diff_days  110527 non-null  int64              \n",
      " 13  Month           110527 non-null  int64              \n",
      " 14  NoShow          110527 non-null  int64              \n",
      " 15  GenderC         110527 non-null  int64              \n",
      "dtypes: datetime64[ns, UTC](2), int64(13), object(1)\n",
      "memory usage: 13.5+ MB\n"
     ]
    }
   ],
   "source": [
    "final_dataset.info()"
   ]
  },
  {
   "cell_type": "code",
   "execution_count": 56,
   "metadata": {},
   "outputs": [
    {
     "data": {
      "text/html": [
       "<div>\n",
       "<style scoped>\n",
       "    .dataframe tbody tr th:only-of-type {\n",
       "        vertical-align: middle;\n",
       "    }\n",
       "\n",
       "    .dataframe tbody tr th {\n",
       "        vertical-align: top;\n",
       "    }\n",
       "\n",
       "    .dataframe thead th {\n",
       "        text-align: right;\n",
       "    }\n",
       "</style>\n",
       "<table border=\"1\" class=\"dataframe\">\n",
       "  <thead>\n",
       "    <tr style=\"text-align: right;\">\n",
       "      <th></th>\n",
       "      <th>PatientID</th>\n",
       "      <th>AppointmentID</th>\n",
       "      <th>ScheduledDay</th>\n",
       "      <th>AppointmentDay</th>\n",
       "      <th>Age</th>\n",
       "      <th>LocationID</th>\n",
       "      <th>MedicaidIND</th>\n",
       "      <th>Hypertension</th>\n",
       "      <th>Diabetes</th>\n",
       "      <th>Alcoholism</th>\n",
       "      <th>Disability</th>\n",
       "      <th>SMS_received</th>\n",
       "      <th>time_diff_days</th>\n",
       "      <th>Month</th>\n",
       "      <th>NoShow</th>\n",
       "      <th>GenderC</th>\n",
       "    </tr>\n",
       "  </thead>\n",
       "  <tbody>\n",
       "    <tr>\n",
       "      <th>0</th>\n",
       "      <td>#29872499824296</td>\n",
       "      <td>5642903</td>\n",
       "      <td>2016-04-29 18:38:08+00:00</td>\n",
       "      <td>2016-04-29 00:00:00+00:00</td>\n",
       "      <td>62</td>\n",
       "      <td>40</td>\n",
       "      <td>0</td>\n",
       "      <td>1</td>\n",
       "      <td>0</td>\n",
       "      <td>0</td>\n",
       "      <td>0</td>\n",
       "      <td>0</td>\n",
       "      <td>0</td>\n",
       "      <td>4</td>\n",
       "      <td>0</td>\n",
       "      <td>0</td>\n",
       "    </tr>\n",
       "    <tr>\n",
       "      <th>1</th>\n",
       "      <td>#558997776694438</td>\n",
       "      <td>5642503</td>\n",
       "      <td>2016-04-29 16:08:27+00:00</td>\n",
       "      <td>2016-04-29 00:00:00+00:00</td>\n",
       "      <td>56</td>\n",
       "      <td>40</td>\n",
       "      <td>0</td>\n",
       "      <td>0</td>\n",
       "      <td>0</td>\n",
       "      <td>0</td>\n",
       "      <td>0</td>\n",
       "      <td>0</td>\n",
       "      <td>0</td>\n",
       "      <td>4</td>\n",
       "      <td>0</td>\n",
       "      <td>1</td>\n",
       "    </tr>\n",
       "    <tr>\n",
       "      <th>2</th>\n",
       "      <td>#4262962299951</td>\n",
       "      <td>5642549</td>\n",
       "      <td>2016-04-29 16:19:04+00:00</td>\n",
       "      <td>2016-04-29 00:00:00+00:00</td>\n",
       "      <td>62</td>\n",
       "      <td>47</td>\n",
       "      <td>0</td>\n",
       "      <td>0</td>\n",
       "      <td>0</td>\n",
       "      <td>0</td>\n",
       "      <td>0</td>\n",
       "      <td>0</td>\n",
       "      <td>0</td>\n",
       "      <td>4</td>\n",
       "      <td>0</td>\n",
       "      <td>0</td>\n",
       "    </tr>\n",
       "    <tr>\n",
       "      <th>3</th>\n",
       "      <td>#867951213174</td>\n",
       "      <td>5642828</td>\n",
       "      <td>2016-04-29 17:29:31+00:00</td>\n",
       "      <td>2016-04-29 00:00:00+00:00</td>\n",
       "      <td>8</td>\n",
       "      <td>55</td>\n",
       "      <td>0</td>\n",
       "      <td>0</td>\n",
       "      <td>0</td>\n",
       "      <td>0</td>\n",
       "      <td>0</td>\n",
       "      <td>0</td>\n",
       "      <td>0</td>\n",
       "      <td>4</td>\n",
       "      <td>0</td>\n",
       "      <td>0</td>\n",
       "    </tr>\n",
       "    <tr>\n",
       "      <th>4</th>\n",
       "      <td>#8841186448183</td>\n",
       "      <td>5642494</td>\n",
       "      <td>2016-04-29 16:07:23+00:00</td>\n",
       "      <td>2016-04-29 00:00:00+00:00</td>\n",
       "      <td>56</td>\n",
       "      <td>40</td>\n",
       "      <td>0</td>\n",
       "      <td>1</td>\n",
       "      <td>1</td>\n",
       "      <td>0</td>\n",
       "      <td>0</td>\n",
       "      <td>0</td>\n",
       "      <td>0</td>\n",
       "      <td>4</td>\n",
       "      <td>0</td>\n",
       "      <td>0</td>\n",
       "    </tr>\n",
       "  </tbody>\n",
       "</table>\n",
       "</div>"
      ],
      "text/plain": [
       "          PatientID  AppointmentID              ScheduledDay  \\\n",
       "0   #29872499824296        5642903 2016-04-29 18:38:08+00:00   \n",
       "1  #558997776694438        5642503 2016-04-29 16:08:27+00:00   \n",
       "2    #4262962299951        5642549 2016-04-29 16:19:04+00:00   \n",
       "3     #867951213174        5642828 2016-04-29 17:29:31+00:00   \n",
       "4    #8841186448183        5642494 2016-04-29 16:07:23+00:00   \n",
       "\n",
       "             AppointmentDay  Age  LocationID  MedicaidIND  Hypertension  \\\n",
       "0 2016-04-29 00:00:00+00:00   62          40            0             1   \n",
       "1 2016-04-29 00:00:00+00:00   56          40            0             0   \n",
       "2 2016-04-29 00:00:00+00:00   62          47            0             0   \n",
       "3 2016-04-29 00:00:00+00:00    8          55            0             0   \n",
       "4 2016-04-29 00:00:00+00:00   56          40            0             1   \n",
       "\n",
       "   Diabetes  Alcoholism  Disability  SMS_received  time_diff_days  Month  \\\n",
       "0         0           0           0             0               0      4   \n",
       "1         0           0           0             0               0      4   \n",
       "2         0           0           0             0               0      4   \n",
       "3         0           0           0             0               0      4   \n",
       "4         1           0           0             0               0      4   \n",
       "\n",
       "   NoShow  GenderC  \n",
       "0       0        0  \n",
       "1       0        1  \n",
       "2       0        0  \n",
       "3       0        0  \n",
       "4       0        0  "
      ]
     },
     "execution_count": 56,
     "metadata": {},
     "output_type": "execute_result"
    }
   ],
   "source": [
    "final_dataset.head()"
   ]
  },
  {
   "cell_type": "code",
   "execution_count": 57,
   "metadata": {},
   "outputs": [],
   "source": [
    "# final_dataset['appt_wd']=final['appt_wd']\n",
    "# final_dataset['schedule_wd']=final['schedule_wd']\n",
    "final_dataset['appt_wd']= df['AppointmentDay'].dt.weekday\n",
    "final_dataset['schedule_wd']=df['ScheduledDay'].dt.weekday\n",
    "final_dataset['PatientIDLength']=df['PatientID'].apply(lambda x:len(x))"
   ]
  },
  {
   "cell_type": "code",
   "execution_count": 58,
   "metadata": {},
   "outputs": [
    {
     "name": "stdout",
     "output_type": "stream",
     "text": [
      "<class 'pandas.core.frame.DataFrame'>\n",
      "RangeIndex: 110527 entries, 0 to 110526\n",
      "Data columns (total 19 columns):\n",
      " #   Column           Non-Null Count   Dtype              \n",
      "---  ------           --------------   -----              \n",
      " 0   PatientID        110527 non-null  object             \n",
      " 1   AppointmentID    110527 non-null  int64              \n",
      " 2   ScheduledDay     110527 non-null  datetime64[ns, UTC]\n",
      " 3   AppointmentDay   110527 non-null  datetime64[ns, UTC]\n",
      " 4   Age              110527 non-null  int64              \n",
      " 5   LocationID       110527 non-null  int64              \n",
      " 6   MedicaidIND      110527 non-null  int64              \n",
      " 7   Hypertension     110527 non-null  int64              \n",
      " 8   Diabetes         110527 non-null  int64              \n",
      " 9   Alcoholism       110527 non-null  int64              \n",
      " 10  Disability       110527 non-null  int64              \n",
      " 11  SMS_received     110527 non-null  int64              \n",
      " 12  time_diff_days   110527 non-null  int64              \n",
      " 13  Month            110527 non-null  int64              \n",
      " 14  NoShow           110527 non-null  int64              \n",
      " 15  GenderC          110527 non-null  int64              \n",
      " 16  appt_wd          110527 non-null  int64              \n",
      " 17  schedule_wd      110527 non-null  int64              \n",
      " 18  PatientIDLength  110527 non-null  int64              \n",
      "dtypes: datetime64[ns, UTC](2), int64(16), object(1)\n",
      "memory usage: 16.0+ MB\n"
     ]
    }
   ],
   "source": [
    "final_dataset.info()"
   ]
  },
  {
   "cell_type": "code",
   "execution_count": 59,
   "metadata": {
    "scrolled": true
   },
   "outputs": [
    {
     "data": {
      "text/html": [
       "<div>\n",
       "<style scoped>\n",
       "    .dataframe tbody tr th:only-of-type {\n",
       "        vertical-align: middle;\n",
       "    }\n",
       "\n",
       "    .dataframe tbody tr th {\n",
       "        vertical-align: top;\n",
       "    }\n",
       "\n",
       "    .dataframe thead th {\n",
       "        text-align: right;\n",
       "    }\n",
       "</style>\n",
       "<table border=\"1\" class=\"dataframe\">\n",
       "  <thead>\n",
       "    <tr style=\"text-align: right;\">\n",
       "      <th></th>\n",
       "      <th>AppointmentID</th>\n",
       "      <th>Age</th>\n",
       "      <th>LocationID</th>\n",
       "      <th>MedicaidIND</th>\n",
       "      <th>Hypertension</th>\n",
       "      <th>Diabetes</th>\n",
       "      <th>Alcoholism</th>\n",
       "      <th>Disability</th>\n",
       "      <th>SMS_received</th>\n",
       "      <th>time_diff_days</th>\n",
       "      <th>Month</th>\n",
       "      <th>NoShow</th>\n",
       "      <th>GenderC</th>\n",
       "      <th>appt_wd</th>\n",
       "      <th>schedule_wd</th>\n",
       "      <th>PatientIDLength</th>\n",
       "    </tr>\n",
       "  </thead>\n",
       "  <tbody>\n",
       "    <tr>\n",
       "      <th>0</th>\n",
       "      <td>5642903</td>\n",
       "      <td>62</td>\n",
       "      <td>40</td>\n",
       "      <td>0</td>\n",
       "      <td>1</td>\n",
       "      <td>0</td>\n",
       "      <td>0</td>\n",
       "      <td>0</td>\n",
       "      <td>0</td>\n",
       "      <td>0</td>\n",
       "      <td>4</td>\n",
       "      <td>0</td>\n",
       "      <td>0</td>\n",
       "      <td>4</td>\n",
       "      <td>4</td>\n",
       "      <td>15</td>\n",
       "    </tr>\n",
       "    <tr>\n",
       "      <th>1</th>\n",
       "      <td>5642503</td>\n",
       "      <td>56</td>\n",
       "      <td>40</td>\n",
       "      <td>0</td>\n",
       "      <td>0</td>\n",
       "      <td>0</td>\n",
       "      <td>0</td>\n",
       "      <td>0</td>\n",
       "      <td>0</td>\n",
       "      <td>0</td>\n",
       "      <td>4</td>\n",
       "      <td>0</td>\n",
       "      <td>1</td>\n",
       "      <td>4</td>\n",
       "      <td>4</td>\n",
       "      <td>16</td>\n",
       "    </tr>\n",
       "    <tr>\n",
       "      <th>2</th>\n",
       "      <td>5642549</td>\n",
       "      <td>62</td>\n",
       "      <td>47</td>\n",
       "      <td>0</td>\n",
       "      <td>0</td>\n",
       "      <td>0</td>\n",
       "      <td>0</td>\n",
       "      <td>0</td>\n",
       "      <td>0</td>\n",
       "      <td>0</td>\n",
       "      <td>4</td>\n",
       "      <td>0</td>\n",
       "      <td>0</td>\n",
       "      <td>4</td>\n",
       "      <td>4</td>\n",
       "      <td>14</td>\n",
       "    </tr>\n",
       "    <tr>\n",
       "      <th>3</th>\n",
       "      <td>5642828</td>\n",
       "      <td>8</td>\n",
       "      <td>55</td>\n",
       "      <td>0</td>\n",
       "      <td>0</td>\n",
       "      <td>0</td>\n",
       "      <td>0</td>\n",
       "      <td>0</td>\n",
       "      <td>0</td>\n",
       "      <td>0</td>\n",
       "      <td>4</td>\n",
       "      <td>0</td>\n",
       "      <td>0</td>\n",
       "      <td>4</td>\n",
       "      <td>4</td>\n",
       "      <td>13</td>\n",
       "    </tr>\n",
       "    <tr>\n",
       "      <th>4</th>\n",
       "      <td>5642494</td>\n",
       "      <td>56</td>\n",
       "      <td>40</td>\n",
       "      <td>0</td>\n",
       "      <td>1</td>\n",
       "      <td>1</td>\n",
       "      <td>0</td>\n",
       "      <td>0</td>\n",
       "      <td>0</td>\n",
       "      <td>0</td>\n",
       "      <td>4</td>\n",
       "      <td>0</td>\n",
       "      <td>0</td>\n",
       "      <td>4</td>\n",
       "      <td>4</td>\n",
       "      <td>14</td>\n",
       "    </tr>\n",
       "    <tr>\n",
       "      <th>...</th>\n",
       "      <td>...</td>\n",
       "      <td>...</td>\n",
       "      <td>...</td>\n",
       "      <td>...</td>\n",
       "      <td>...</td>\n",
       "      <td>...</td>\n",
       "      <td>...</td>\n",
       "      <td>...</td>\n",
       "      <td>...</td>\n",
       "      <td>...</td>\n",
       "      <td>...</td>\n",
       "      <td>...</td>\n",
       "      <td>...</td>\n",
       "      <td>...</td>\n",
       "      <td>...</td>\n",
       "      <td>...</td>\n",
       "    </tr>\n",
       "    <tr>\n",
       "      <th>110522</th>\n",
       "      <td>5651768</td>\n",
       "      <td>56</td>\n",
       "      <td>45</td>\n",
       "      <td>0</td>\n",
       "      <td>0</td>\n",
       "      <td>0</td>\n",
       "      <td>0</td>\n",
       "      <td>0</td>\n",
       "      <td>1</td>\n",
       "      <td>34</td>\n",
       "      <td>5</td>\n",
       "      <td>0</td>\n",
       "      <td>0</td>\n",
       "      <td>1</td>\n",
       "      <td>1</td>\n",
       "      <td>14</td>\n",
       "    </tr>\n",
       "    <tr>\n",
       "      <th>110523</th>\n",
       "      <td>5650093</td>\n",
       "      <td>51</td>\n",
       "      <td>45</td>\n",
       "      <td>0</td>\n",
       "      <td>0</td>\n",
       "      <td>0</td>\n",
       "      <td>0</td>\n",
       "      <td>0</td>\n",
       "      <td>1</td>\n",
       "      <td>34</td>\n",
       "      <td>5</td>\n",
       "      <td>0</td>\n",
       "      <td>0</td>\n",
       "      <td>1</td>\n",
       "      <td>1</td>\n",
       "      <td>14</td>\n",
       "    </tr>\n",
       "    <tr>\n",
       "      <th>110524</th>\n",
       "      <td>5630692</td>\n",
       "      <td>21</td>\n",
       "      <td>45</td>\n",
       "      <td>0</td>\n",
       "      <td>0</td>\n",
       "      <td>0</td>\n",
       "      <td>0</td>\n",
       "      <td>0</td>\n",
       "      <td>1</td>\n",
       "      <td>40</td>\n",
       "      <td>4</td>\n",
       "      <td>0</td>\n",
       "      <td>0</td>\n",
       "      <td>1</td>\n",
       "      <td>2</td>\n",
       "      <td>15</td>\n",
       "    </tr>\n",
       "    <tr>\n",
       "      <th>110525</th>\n",
       "      <td>5630323</td>\n",
       "      <td>38</td>\n",
       "      <td>45</td>\n",
       "      <td>0</td>\n",
       "      <td>0</td>\n",
       "      <td>0</td>\n",
       "      <td>0</td>\n",
       "      <td>0</td>\n",
       "      <td>1</td>\n",
       "      <td>40</td>\n",
       "      <td>4</td>\n",
       "      <td>0</td>\n",
       "      <td>0</td>\n",
       "      <td>1</td>\n",
       "      <td>2</td>\n",
       "      <td>15</td>\n",
       "    </tr>\n",
       "    <tr>\n",
       "      <th>110526</th>\n",
       "      <td>5629448</td>\n",
       "      <td>54</td>\n",
       "      <td>45</td>\n",
       "      <td>0</td>\n",
       "      <td>0</td>\n",
       "      <td>0</td>\n",
       "      <td>0</td>\n",
       "      <td>0</td>\n",
       "      <td>1</td>\n",
       "      <td>40</td>\n",
       "      <td>4</td>\n",
       "      <td>0</td>\n",
       "      <td>0</td>\n",
       "      <td>1</td>\n",
       "      <td>2</td>\n",
       "      <td>16</td>\n",
       "    </tr>\n",
       "  </tbody>\n",
       "</table>\n",
       "<p>110527 rows × 16 columns</p>\n",
       "</div>"
      ],
      "text/plain": [
       "        AppointmentID  Age  LocationID  MedicaidIND  Hypertension  Diabetes  \\\n",
       "0             5642903   62          40            0             1         0   \n",
       "1             5642503   56          40            0             0         0   \n",
       "2             5642549   62          47            0             0         0   \n",
       "3             5642828    8          55            0             0         0   \n",
       "4             5642494   56          40            0             1         1   \n",
       "...               ...  ...         ...          ...           ...       ...   \n",
       "110522        5651768   56          45            0             0         0   \n",
       "110523        5650093   51          45            0             0         0   \n",
       "110524        5630692   21          45            0             0         0   \n",
       "110525        5630323   38          45            0             0         0   \n",
       "110526        5629448   54          45            0             0         0   \n",
       "\n",
       "        Alcoholism  Disability  SMS_received  time_diff_days  Month  NoShow  \\\n",
       "0                0           0             0               0      4       0   \n",
       "1                0           0             0               0      4       0   \n",
       "2                0           0             0               0      4       0   \n",
       "3                0           0             0               0      4       0   \n",
       "4                0           0             0               0      4       0   \n",
       "...            ...         ...           ...             ...    ...     ...   \n",
       "110522           0           0             1              34      5       0   \n",
       "110523           0           0             1              34      5       0   \n",
       "110524           0           0             1              40      4       0   \n",
       "110525           0           0             1              40      4       0   \n",
       "110526           0           0             1              40      4       0   \n",
       "\n",
       "        GenderC  appt_wd  schedule_wd  PatientIDLength  \n",
       "0             0        4            4               15  \n",
       "1             1        4            4               16  \n",
       "2             0        4            4               14  \n",
       "3             0        4            4               13  \n",
       "4             0        4            4               14  \n",
       "...         ...      ...          ...              ...  \n",
       "110522        0        1            1               14  \n",
       "110523        0        1            1               14  \n",
       "110524        0        1            2               15  \n",
       "110525        0        1            2               15  \n",
       "110526        0        1            2               16  \n",
       "\n",
       "[110527 rows x 16 columns]"
      ]
     },
     "execution_count": 59,
     "metadata": {},
     "output_type": "execute_result"
    }
   ],
   "source": [
    "final=final_dataset.select_dtypes('int')\n",
    "final"
   ]
  },
  {
   "cell_type": "markdown",
   "metadata": {},
   "source": [
    "### EDA Feature Selection"
   ]
  },
  {
   "cell_type": "code",
   "execution_count": 60,
   "metadata": {},
   "outputs": [],
   "source": [
    "first_column = final.pop('NoShow')\n",
    "# insert column using insert(position,column_name,first_column) function\n",
    "final.insert(0, 'NoShow', first_column)"
   ]
  },
  {
   "cell_type": "code",
   "execution_count": 61,
   "metadata": {},
   "outputs": [
    {
     "data": {
      "text/html": [
       "<div>\n",
       "<style scoped>\n",
       "    .dataframe tbody tr th:only-of-type {\n",
       "        vertical-align: middle;\n",
       "    }\n",
       "\n",
       "    .dataframe tbody tr th {\n",
       "        vertical-align: top;\n",
       "    }\n",
       "\n",
       "    .dataframe thead th {\n",
       "        text-align: right;\n",
       "    }\n",
       "</style>\n",
       "<table border=\"1\" class=\"dataframe\">\n",
       "  <thead>\n",
       "    <tr style=\"text-align: right;\">\n",
       "      <th></th>\n",
       "      <th>NoShow</th>\n",
       "      <th>AppointmentID</th>\n",
       "      <th>Age</th>\n",
       "      <th>LocationID</th>\n",
       "      <th>MedicaidIND</th>\n",
       "      <th>Hypertension</th>\n",
       "      <th>Diabetes</th>\n",
       "      <th>Alcoholism</th>\n",
       "      <th>Disability</th>\n",
       "      <th>SMS_received</th>\n",
       "      <th>time_diff_days</th>\n",
       "      <th>Month</th>\n",
       "      <th>GenderC</th>\n",
       "      <th>appt_wd</th>\n",
       "      <th>schedule_wd</th>\n",
       "      <th>PatientIDLength</th>\n",
       "    </tr>\n",
       "  </thead>\n",
       "  <tbody>\n",
       "    <tr>\n",
       "      <th>NoShow</th>\n",
       "      <td>1.000000</td>\n",
       "      <td>-0.162602</td>\n",
       "      <td>-0.060319</td>\n",
       "      <td>-0.009812</td>\n",
       "      <td>0.029135</td>\n",
       "      <td>-0.035701</td>\n",
       "      <td>-0.015180</td>\n",
       "      <td>-0.000196</td>\n",
       "      <td>-0.006076</td>\n",
       "      <td>0.126431</td>\n",
       "      <td>0.180087</td>\n",
       "      <td>-0.160862</td>\n",
       "      <td>-0.004119</td>\n",
       "      <td>0.001165</td>\n",
       "      <td>0.006020</td>\n",
       "      <td>0.000537</td>\n",
       "    </tr>\n",
       "    <tr>\n",
       "      <th>AppointmentID</th>\n",
       "      <td>-0.162602</td>\n",
       "      <td>1.000000</td>\n",
       "      <td>-0.019126</td>\n",
       "      <td>0.000545</td>\n",
       "      <td>0.022615</td>\n",
       "      <td>0.012752</td>\n",
       "      <td>0.022628</td>\n",
       "      <td>0.032944</td>\n",
       "      <td>0.014106</td>\n",
       "      <td>-0.256618</td>\n",
       "      <td>-0.771191</td>\n",
       "      <td>0.817793</td>\n",
       "      <td>0.018496</td>\n",
       "      <td>-0.053292</td>\n",
       "      <td>-0.008224</td>\n",
       "      <td>-0.000064</td>\n",
       "    </tr>\n",
       "    <tr>\n",
       "      <th>Age</th>\n",
       "      <td>-0.060319</td>\n",
       "      <td>-0.019126</td>\n",
       "      <td>1.000000</td>\n",
       "      <td>-0.012919</td>\n",
       "      <td>-0.092457</td>\n",
       "      <td>0.504586</td>\n",
       "      <td>0.292391</td>\n",
       "      <td>0.095811</td>\n",
       "      <td>0.078033</td>\n",
       "      <td>0.012643</td>\n",
       "      <td>0.032707</td>\n",
       "      <td>-0.003040</td>\n",
       "      <td>-0.106440</td>\n",
       "      <td>0.003088</td>\n",
       "      <td>0.011401</td>\n",
       "      <td>0.002366</td>\n",
       "    </tr>\n",
       "    <tr>\n",
       "      <th>LocationID</th>\n",
       "      <td>-0.009812</td>\n",
       "      <td>0.000545</td>\n",
       "      <td>-0.012919</td>\n",
       "      <td>1.000000</td>\n",
       "      <td>0.001727</td>\n",
       "      <td>-0.002223</td>\n",
       "      <td>0.006531</td>\n",
       "      <td>-0.003352</td>\n",
       "      <td>0.009713</td>\n",
       "      <td>0.019962</td>\n",
       "      <td>0.005682</td>\n",
       "      <td>0.004933</td>\n",
       "      <td>-0.008767</td>\n",
       "      <td>-0.001056</td>\n",
       "      <td>0.013991</td>\n",
       "      <td>0.004082</td>\n",
       "    </tr>\n",
       "    <tr>\n",
       "      <th>MedicaidIND</th>\n",
       "      <td>0.029135</td>\n",
       "      <td>0.022615</td>\n",
       "      <td>-0.092457</td>\n",
       "      <td>0.001727</td>\n",
       "      <td>1.000000</td>\n",
       "      <td>-0.019729</td>\n",
       "      <td>-0.024894</td>\n",
       "      <td>0.035022</td>\n",
       "      <td>-0.008586</td>\n",
       "      <td>0.001194</td>\n",
       "      <td>-0.030076</td>\n",
       "      <td>0.016812</td>\n",
       "      <td>-0.114293</td>\n",
       "      <td>-0.000673</td>\n",
       "      <td>-0.004963</td>\n",
       "      <td>-0.001552</td>\n",
       "    </tr>\n",
       "    <tr>\n",
       "      <th>Hypertension</th>\n",
       "      <td>-0.035701</td>\n",
       "      <td>0.012752</td>\n",
       "      <td>0.504586</td>\n",
       "      <td>-0.002223</td>\n",
       "      <td>-0.019729</td>\n",
       "      <td>1.000000</td>\n",
       "      <td>0.433086</td>\n",
       "      <td>0.087971</td>\n",
       "      <td>0.080083</td>\n",
       "      <td>-0.006267</td>\n",
       "      <td>-0.018750</td>\n",
       "      <td>0.024992</td>\n",
       "      <td>-0.055718</td>\n",
       "      <td>0.003455</td>\n",
       "      <td>0.000685</td>\n",
       "      <td>0.007353</td>\n",
       "    </tr>\n",
       "    <tr>\n",
       "      <th>Diabetes</th>\n",
       "      <td>-0.015180</td>\n",
       "      <td>0.022628</td>\n",
       "      <td>0.292391</td>\n",
       "      <td>0.006531</td>\n",
       "      <td>-0.024894</td>\n",
       "      <td>0.433086</td>\n",
       "      <td>1.000000</td>\n",
       "      <td>0.018474</td>\n",
       "      <td>0.057530</td>\n",
       "      <td>-0.014550</td>\n",
       "      <td>-0.028082</td>\n",
       "      <td>0.025596</td>\n",
       "      <td>-0.032554</td>\n",
       "      <td>0.006614</td>\n",
       "      <td>-0.000383</td>\n",
       "      <td>0.008673</td>\n",
       "    </tr>\n",
       "    <tr>\n",
       "      <th>Alcoholism</th>\n",
       "      <td>-0.000196</td>\n",
       "      <td>0.032944</td>\n",
       "      <td>0.095811</td>\n",
       "      <td>-0.003352</td>\n",
       "      <td>0.035022</td>\n",
       "      <td>0.087971</td>\n",
       "      <td>0.018474</td>\n",
       "      <td>1.000000</td>\n",
       "      <td>0.004648</td>\n",
       "      <td>-0.026147</td>\n",
       "      <td>-0.037822</td>\n",
       "      <td>0.028771</td>\n",
       "      <td>0.106167</td>\n",
       "      <td>0.002701</td>\n",
       "      <td>0.006630</td>\n",
       "      <td>0.002942</td>\n",
       "    </tr>\n",
       "    <tr>\n",
       "      <th>Disability</th>\n",
       "      <td>-0.006076</td>\n",
       "      <td>0.014106</td>\n",
       "      <td>0.078033</td>\n",
       "      <td>0.009713</td>\n",
       "      <td>-0.008586</td>\n",
       "      <td>0.080083</td>\n",
       "      <td>0.057530</td>\n",
       "      <td>0.004648</td>\n",
       "      <td>1.000000</td>\n",
       "      <td>-0.024161</td>\n",
       "      <td>-0.019534</td>\n",
       "      <td>0.014953</td>\n",
       "      <td>0.022814</td>\n",
       "      <td>0.004352</td>\n",
       "      <td>0.000611</td>\n",
       "      <td>-0.004891</td>\n",
       "    </tr>\n",
       "    <tr>\n",
       "      <th>SMS_received</th>\n",
       "      <td>0.126431</td>\n",
       "      <td>-0.256618</td>\n",
       "      <td>0.012643</td>\n",
       "      <td>0.019962</td>\n",
       "      <td>0.001194</td>\n",
       "      <td>-0.006267</td>\n",
       "      <td>-0.014550</td>\n",
       "      <td>-0.026147</td>\n",
       "      <td>-0.024161</td>\n",
       "      <td>1.000000</td>\n",
       "      <td>0.388193</td>\n",
       "      <td>-0.294089</td>\n",
       "      <td>-0.046298</td>\n",
       "      <td>-0.089858</td>\n",
       "      <td>0.078555</td>\n",
       "      <td>-0.006695</td>\n",
       "    </tr>\n",
       "    <tr>\n",
       "      <th>time_diff_days</th>\n",
       "      <td>0.180087</td>\n",
       "      <td>-0.771191</td>\n",
       "      <td>0.032707</td>\n",
       "      <td>0.005682</td>\n",
       "      <td>-0.030076</td>\n",
       "      <td>-0.018750</td>\n",
       "      <td>-0.028082</td>\n",
       "      <td>-0.037822</td>\n",
       "      <td>-0.019534</td>\n",
       "      <td>0.388193</td>\n",
       "      <td>1.000000</td>\n",
       "      <td>-0.597800</td>\n",
       "      <td>-0.027201</td>\n",
       "      <td>-0.011942</td>\n",
       "      <td>0.014503</td>\n",
       "      <td>0.003021</td>\n",
       "    </tr>\n",
       "    <tr>\n",
       "      <th>Month</th>\n",
       "      <td>-0.160862</td>\n",
       "      <td>0.817793</td>\n",
       "      <td>-0.003040</td>\n",
       "      <td>0.004933</td>\n",
       "      <td>0.016812</td>\n",
       "      <td>0.024992</td>\n",
       "      <td>0.025596</td>\n",
       "      <td>0.028771</td>\n",
       "      <td>0.014953</td>\n",
       "      <td>-0.294089</td>\n",
       "      <td>-0.597800</td>\n",
       "      <td>1.000000</td>\n",
       "      <td>0.013327</td>\n",
       "      <td>-0.043021</td>\n",
       "      <td>-0.031744</td>\n",
       "      <td>-0.000049</td>\n",
       "    </tr>\n",
       "    <tr>\n",
       "      <th>GenderC</th>\n",
       "      <td>-0.004119</td>\n",
       "      <td>0.018496</td>\n",
       "      <td>-0.106440</td>\n",
       "      <td>-0.008767</td>\n",
       "      <td>-0.114293</td>\n",
       "      <td>-0.055718</td>\n",
       "      <td>-0.032554</td>\n",
       "      <td>0.106167</td>\n",
       "      <td>0.022814</td>\n",
       "      <td>-0.046298</td>\n",
       "      <td>-0.027201</td>\n",
       "      <td>0.013327</td>\n",
       "      <td>1.000000</td>\n",
       "      <td>0.003916</td>\n",
       "      <td>0.004849</td>\n",
       "      <td>0.007003</td>\n",
       "    </tr>\n",
       "    <tr>\n",
       "      <th>appt_wd</th>\n",
       "      <td>0.001165</td>\n",
       "      <td>-0.053292</td>\n",
       "      <td>0.003088</td>\n",
       "      <td>-0.001056</td>\n",
       "      <td>-0.000673</td>\n",
       "      <td>0.003455</td>\n",
       "      <td>0.006614</td>\n",
       "      <td>0.002701</td>\n",
       "      <td>0.004352</td>\n",
       "      <td>-0.089858</td>\n",
       "      <td>-0.011942</td>\n",
       "      <td>-0.043021</td>\n",
       "      <td>0.003916</td>\n",
       "      <td>1.000000</td>\n",
       "      <td>0.328801</td>\n",
       "      <td>0.000033</td>\n",
       "    </tr>\n",
       "    <tr>\n",
       "      <th>schedule_wd</th>\n",
       "      <td>0.006020</td>\n",
       "      <td>-0.008224</td>\n",
       "      <td>0.011401</td>\n",
       "      <td>0.013991</td>\n",
       "      <td>-0.004963</td>\n",
       "      <td>0.000685</td>\n",
       "      <td>-0.000383</td>\n",
       "      <td>0.006630</td>\n",
       "      <td>0.000611</td>\n",
       "      <td>0.078555</td>\n",
       "      <td>0.014503</td>\n",
       "      <td>-0.031744</td>\n",
       "      <td>0.004849</td>\n",
       "      <td>0.328801</td>\n",
       "      <td>1.000000</td>\n",
       "      <td>0.001407</td>\n",
       "    </tr>\n",
       "    <tr>\n",
       "      <th>PatientIDLength</th>\n",
       "      <td>0.000537</td>\n",
       "      <td>-0.000064</td>\n",
       "      <td>0.002366</td>\n",
       "      <td>0.004082</td>\n",
       "      <td>-0.001552</td>\n",
       "      <td>0.007353</td>\n",
       "      <td>0.008673</td>\n",
       "      <td>0.002942</td>\n",
       "      <td>-0.004891</td>\n",
       "      <td>-0.006695</td>\n",
       "      <td>0.003021</td>\n",
       "      <td>-0.000049</td>\n",
       "      <td>0.007003</td>\n",
       "      <td>0.000033</td>\n",
       "      <td>0.001407</td>\n",
       "      <td>1.000000</td>\n",
       "    </tr>\n",
       "  </tbody>\n",
       "</table>\n",
       "</div>"
      ],
      "text/plain": [
       "                   NoShow  AppointmentID       Age  LocationID  MedicaidIND  \\\n",
       "NoShow           1.000000      -0.162602 -0.060319   -0.009812     0.029135   \n",
       "AppointmentID   -0.162602       1.000000 -0.019126    0.000545     0.022615   \n",
       "Age             -0.060319      -0.019126  1.000000   -0.012919    -0.092457   \n",
       "LocationID      -0.009812       0.000545 -0.012919    1.000000     0.001727   \n",
       "MedicaidIND      0.029135       0.022615 -0.092457    0.001727     1.000000   \n",
       "Hypertension    -0.035701       0.012752  0.504586   -0.002223    -0.019729   \n",
       "Diabetes        -0.015180       0.022628  0.292391    0.006531    -0.024894   \n",
       "Alcoholism      -0.000196       0.032944  0.095811   -0.003352     0.035022   \n",
       "Disability      -0.006076       0.014106  0.078033    0.009713    -0.008586   \n",
       "SMS_received     0.126431      -0.256618  0.012643    0.019962     0.001194   \n",
       "time_diff_days   0.180087      -0.771191  0.032707    0.005682    -0.030076   \n",
       "Month           -0.160862       0.817793 -0.003040    0.004933     0.016812   \n",
       "GenderC         -0.004119       0.018496 -0.106440   -0.008767    -0.114293   \n",
       "appt_wd          0.001165      -0.053292  0.003088   -0.001056    -0.000673   \n",
       "schedule_wd      0.006020      -0.008224  0.011401    0.013991    -0.004963   \n",
       "PatientIDLength  0.000537      -0.000064  0.002366    0.004082    -0.001552   \n",
       "\n",
       "                 Hypertension  Diabetes  Alcoholism  Disability  SMS_received  \\\n",
       "NoShow              -0.035701 -0.015180   -0.000196   -0.006076      0.126431   \n",
       "AppointmentID        0.012752  0.022628    0.032944    0.014106     -0.256618   \n",
       "Age                  0.504586  0.292391    0.095811    0.078033      0.012643   \n",
       "LocationID          -0.002223  0.006531   -0.003352    0.009713      0.019962   \n",
       "MedicaidIND         -0.019729 -0.024894    0.035022   -0.008586      0.001194   \n",
       "Hypertension         1.000000  0.433086    0.087971    0.080083     -0.006267   \n",
       "Diabetes             0.433086  1.000000    0.018474    0.057530     -0.014550   \n",
       "Alcoholism           0.087971  0.018474    1.000000    0.004648     -0.026147   \n",
       "Disability           0.080083  0.057530    0.004648    1.000000     -0.024161   \n",
       "SMS_received        -0.006267 -0.014550   -0.026147   -0.024161      1.000000   \n",
       "time_diff_days      -0.018750 -0.028082   -0.037822   -0.019534      0.388193   \n",
       "Month                0.024992  0.025596    0.028771    0.014953     -0.294089   \n",
       "GenderC             -0.055718 -0.032554    0.106167    0.022814     -0.046298   \n",
       "appt_wd              0.003455  0.006614    0.002701    0.004352     -0.089858   \n",
       "schedule_wd          0.000685 -0.000383    0.006630    0.000611      0.078555   \n",
       "PatientIDLength      0.007353  0.008673    0.002942   -0.004891     -0.006695   \n",
       "\n",
       "                 time_diff_days     Month   GenderC   appt_wd  schedule_wd  \\\n",
       "NoShow                 0.180087 -0.160862 -0.004119  0.001165     0.006020   \n",
       "AppointmentID         -0.771191  0.817793  0.018496 -0.053292    -0.008224   \n",
       "Age                    0.032707 -0.003040 -0.106440  0.003088     0.011401   \n",
       "LocationID             0.005682  0.004933 -0.008767 -0.001056     0.013991   \n",
       "MedicaidIND           -0.030076  0.016812 -0.114293 -0.000673    -0.004963   \n",
       "Hypertension          -0.018750  0.024992 -0.055718  0.003455     0.000685   \n",
       "Diabetes              -0.028082  0.025596 -0.032554  0.006614    -0.000383   \n",
       "Alcoholism            -0.037822  0.028771  0.106167  0.002701     0.006630   \n",
       "Disability            -0.019534  0.014953  0.022814  0.004352     0.000611   \n",
       "SMS_received           0.388193 -0.294089 -0.046298 -0.089858     0.078555   \n",
       "time_diff_days         1.000000 -0.597800 -0.027201 -0.011942     0.014503   \n",
       "Month                 -0.597800  1.000000  0.013327 -0.043021    -0.031744   \n",
       "GenderC               -0.027201  0.013327  1.000000  0.003916     0.004849   \n",
       "appt_wd               -0.011942 -0.043021  0.003916  1.000000     0.328801   \n",
       "schedule_wd            0.014503 -0.031744  0.004849  0.328801     1.000000   \n",
       "PatientIDLength        0.003021 -0.000049  0.007003  0.000033     0.001407   \n",
       "\n",
       "                 PatientIDLength  \n",
       "NoShow                  0.000537  \n",
       "AppointmentID          -0.000064  \n",
       "Age                     0.002366  \n",
       "LocationID              0.004082  \n",
       "MedicaidIND            -0.001552  \n",
       "Hypertension            0.007353  \n",
       "Diabetes                0.008673  \n",
       "Alcoholism              0.002942  \n",
       "Disability             -0.004891  \n",
       "SMS_received           -0.006695  \n",
       "time_diff_days          0.003021  \n",
       "Month                  -0.000049  \n",
       "GenderC                 0.007003  \n",
       "appt_wd                 0.000033  \n",
       "schedule_wd             0.001407  \n",
       "PatientIDLength         1.000000  "
      ]
     },
     "execution_count": 61,
     "metadata": {},
     "output_type": "execute_result"
    }
   ],
   "source": [
    "final.corr()"
   ]
  },
  {
   "cell_type": "code",
   "execution_count": 62,
   "metadata": {
    "scrolled": true
   },
   "outputs": [
    {
     "data": {
      "text/html": [
       "<div>\n",
       "<style scoped>\n",
       "    .dataframe tbody tr th:only-of-type {\n",
       "        vertical-align: middle;\n",
       "    }\n",
       "\n",
       "    .dataframe tbody tr th {\n",
       "        vertical-align: top;\n",
       "    }\n",
       "\n",
       "    .dataframe thead th {\n",
       "        text-align: right;\n",
       "    }\n",
       "</style>\n",
       "<table border=\"1\" class=\"dataframe\">\n",
       "  <thead>\n",
       "    <tr style=\"text-align: right;\">\n",
       "      <th></th>\n",
       "      <th>NoShow</th>\n",
       "      <th>AppointmentID</th>\n",
       "      <th>Age</th>\n",
       "      <th>LocationID</th>\n",
       "      <th>MedicaidIND</th>\n",
       "      <th>Hypertension</th>\n",
       "      <th>Diabetes</th>\n",
       "      <th>Alcoholism</th>\n",
       "      <th>Disability</th>\n",
       "      <th>SMS_received</th>\n",
       "      <th>time_diff_days</th>\n",
       "      <th>Month</th>\n",
       "      <th>GenderC</th>\n",
       "      <th>appt_wd</th>\n",
       "      <th>schedule_wd</th>\n",
       "      <th>PatientIDLength</th>\n",
       "    </tr>\n",
       "  </thead>\n",
       "  <tbody>\n",
       "    <tr>\n",
       "      <th>0</th>\n",
       "      <td>0</td>\n",
       "      <td>5642903</td>\n",
       "      <td>62</td>\n",
       "      <td>40</td>\n",
       "      <td>0</td>\n",
       "      <td>1</td>\n",
       "      <td>0</td>\n",
       "      <td>0</td>\n",
       "      <td>0</td>\n",
       "      <td>0</td>\n",
       "      <td>0</td>\n",
       "      <td>4</td>\n",
       "      <td>0</td>\n",
       "      <td>4</td>\n",
       "      <td>4</td>\n",
       "      <td>15</td>\n",
       "    </tr>\n",
       "    <tr>\n",
       "      <th>1</th>\n",
       "      <td>0</td>\n",
       "      <td>5642503</td>\n",
       "      <td>56</td>\n",
       "      <td>40</td>\n",
       "      <td>0</td>\n",
       "      <td>0</td>\n",
       "      <td>0</td>\n",
       "      <td>0</td>\n",
       "      <td>0</td>\n",
       "      <td>0</td>\n",
       "      <td>0</td>\n",
       "      <td>4</td>\n",
       "      <td>1</td>\n",
       "      <td>4</td>\n",
       "      <td>4</td>\n",
       "      <td>16</td>\n",
       "    </tr>\n",
       "    <tr>\n",
       "      <th>2</th>\n",
       "      <td>0</td>\n",
       "      <td>5642549</td>\n",
       "      <td>62</td>\n",
       "      <td>47</td>\n",
       "      <td>0</td>\n",
       "      <td>0</td>\n",
       "      <td>0</td>\n",
       "      <td>0</td>\n",
       "      <td>0</td>\n",
       "      <td>0</td>\n",
       "      <td>0</td>\n",
       "      <td>4</td>\n",
       "      <td>0</td>\n",
       "      <td>4</td>\n",
       "      <td>4</td>\n",
       "      <td>14</td>\n",
       "    </tr>\n",
       "    <tr>\n",
       "      <th>3</th>\n",
       "      <td>0</td>\n",
       "      <td>5642828</td>\n",
       "      <td>8</td>\n",
       "      <td>55</td>\n",
       "      <td>0</td>\n",
       "      <td>0</td>\n",
       "      <td>0</td>\n",
       "      <td>0</td>\n",
       "      <td>0</td>\n",
       "      <td>0</td>\n",
       "      <td>0</td>\n",
       "      <td>4</td>\n",
       "      <td>0</td>\n",
       "      <td>4</td>\n",
       "      <td>4</td>\n",
       "      <td>13</td>\n",
       "    </tr>\n",
       "    <tr>\n",
       "      <th>4</th>\n",
       "      <td>0</td>\n",
       "      <td>5642494</td>\n",
       "      <td>56</td>\n",
       "      <td>40</td>\n",
       "      <td>0</td>\n",
       "      <td>1</td>\n",
       "      <td>1</td>\n",
       "      <td>0</td>\n",
       "      <td>0</td>\n",
       "      <td>0</td>\n",
       "      <td>0</td>\n",
       "      <td>4</td>\n",
       "      <td>0</td>\n",
       "      <td>4</td>\n",
       "      <td>4</td>\n",
       "      <td>14</td>\n",
       "    </tr>\n",
       "    <tr>\n",
       "      <th>...</th>\n",
       "      <td>...</td>\n",
       "      <td>...</td>\n",
       "      <td>...</td>\n",
       "      <td>...</td>\n",
       "      <td>...</td>\n",
       "      <td>...</td>\n",
       "      <td>...</td>\n",
       "      <td>...</td>\n",
       "      <td>...</td>\n",
       "      <td>...</td>\n",
       "      <td>...</td>\n",
       "      <td>...</td>\n",
       "      <td>...</td>\n",
       "      <td>...</td>\n",
       "      <td>...</td>\n",
       "      <td>...</td>\n",
       "    </tr>\n",
       "    <tr>\n",
       "      <th>110522</th>\n",
       "      <td>0</td>\n",
       "      <td>5651768</td>\n",
       "      <td>56</td>\n",
       "      <td>45</td>\n",
       "      <td>0</td>\n",
       "      <td>0</td>\n",
       "      <td>0</td>\n",
       "      <td>0</td>\n",
       "      <td>0</td>\n",
       "      <td>1</td>\n",
       "      <td>34</td>\n",
       "      <td>5</td>\n",
       "      <td>0</td>\n",
       "      <td>1</td>\n",
       "      <td>1</td>\n",
       "      <td>14</td>\n",
       "    </tr>\n",
       "    <tr>\n",
       "      <th>110523</th>\n",
       "      <td>0</td>\n",
       "      <td>5650093</td>\n",
       "      <td>51</td>\n",
       "      <td>45</td>\n",
       "      <td>0</td>\n",
       "      <td>0</td>\n",
       "      <td>0</td>\n",
       "      <td>0</td>\n",
       "      <td>0</td>\n",
       "      <td>1</td>\n",
       "      <td>34</td>\n",
       "      <td>5</td>\n",
       "      <td>0</td>\n",
       "      <td>1</td>\n",
       "      <td>1</td>\n",
       "      <td>14</td>\n",
       "    </tr>\n",
       "    <tr>\n",
       "      <th>110524</th>\n",
       "      <td>0</td>\n",
       "      <td>5630692</td>\n",
       "      <td>21</td>\n",
       "      <td>45</td>\n",
       "      <td>0</td>\n",
       "      <td>0</td>\n",
       "      <td>0</td>\n",
       "      <td>0</td>\n",
       "      <td>0</td>\n",
       "      <td>1</td>\n",
       "      <td>40</td>\n",
       "      <td>4</td>\n",
       "      <td>0</td>\n",
       "      <td>1</td>\n",
       "      <td>2</td>\n",
       "      <td>15</td>\n",
       "    </tr>\n",
       "    <tr>\n",
       "      <th>110525</th>\n",
       "      <td>0</td>\n",
       "      <td>5630323</td>\n",
       "      <td>38</td>\n",
       "      <td>45</td>\n",
       "      <td>0</td>\n",
       "      <td>0</td>\n",
       "      <td>0</td>\n",
       "      <td>0</td>\n",
       "      <td>0</td>\n",
       "      <td>1</td>\n",
       "      <td>40</td>\n",
       "      <td>4</td>\n",
       "      <td>0</td>\n",
       "      <td>1</td>\n",
       "      <td>2</td>\n",
       "      <td>15</td>\n",
       "    </tr>\n",
       "    <tr>\n",
       "      <th>110526</th>\n",
       "      <td>0</td>\n",
       "      <td>5629448</td>\n",
       "      <td>54</td>\n",
       "      <td>45</td>\n",
       "      <td>0</td>\n",
       "      <td>0</td>\n",
       "      <td>0</td>\n",
       "      <td>0</td>\n",
       "      <td>0</td>\n",
       "      <td>1</td>\n",
       "      <td>40</td>\n",
       "      <td>4</td>\n",
       "      <td>0</td>\n",
       "      <td>1</td>\n",
       "      <td>2</td>\n",
       "      <td>16</td>\n",
       "    </tr>\n",
       "  </tbody>\n",
       "</table>\n",
       "<p>110527 rows × 16 columns</p>\n",
       "</div>"
      ],
      "text/plain": [
       "        NoShow  AppointmentID  Age  LocationID  MedicaidIND  Hypertension  \\\n",
       "0            0        5642903   62          40            0             1   \n",
       "1            0        5642503   56          40            0             0   \n",
       "2            0        5642549   62          47            0             0   \n",
       "3            0        5642828    8          55            0             0   \n",
       "4            0        5642494   56          40            0             1   \n",
       "...        ...            ...  ...         ...          ...           ...   \n",
       "110522       0        5651768   56          45            0             0   \n",
       "110523       0        5650093   51          45            0             0   \n",
       "110524       0        5630692   21          45            0             0   \n",
       "110525       0        5630323   38          45            0             0   \n",
       "110526       0        5629448   54          45            0             0   \n",
       "\n",
       "        Diabetes  Alcoholism  Disability  SMS_received  time_diff_days  Month  \\\n",
       "0              0           0           0             0               0      4   \n",
       "1              0           0           0             0               0      4   \n",
       "2              0           0           0             0               0      4   \n",
       "3              0           0           0             0               0      4   \n",
       "4              1           0           0             0               0      4   \n",
       "...          ...         ...         ...           ...             ...    ...   \n",
       "110522         0           0           0             1              34      5   \n",
       "110523         0           0           0             1              34      5   \n",
       "110524         0           0           0             1              40      4   \n",
       "110525         0           0           0             1              40      4   \n",
       "110526         0           0           0             1              40      4   \n",
       "\n",
       "        GenderC  appt_wd  schedule_wd  PatientIDLength  \n",
       "0             0        4            4               15  \n",
       "1             1        4            4               16  \n",
       "2             0        4            4               14  \n",
       "3             0        4            4               13  \n",
       "4             0        4            4               14  \n",
       "...         ...      ...          ...              ...  \n",
       "110522        0        1            1               14  \n",
       "110523        0        1            1               14  \n",
       "110524        0        1            2               15  \n",
       "110525        0        1            2               15  \n",
       "110526        0        1            2               16  \n",
       "\n",
       "[110527 rows x 16 columns]"
      ]
     },
     "execution_count": 62,
     "metadata": {},
     "output_type": "execute_result"
    }
   ],
   "source": [
    "final"
   ]
  },
  {
   "cell_type": "code",
   "execution_count": 63,
   "metadata": {},
   "outputs": [],
   "source": [
    "import seaborn as sns"
   ]
  },
  {
   "cell_type": "code",
   "execution_count": 64,
   "metadata": {},
   "outputs": [],
   "source": [
    "#  sns.pairplot(final_dataset)"
   ]
  },
  {
   "cell_type": "code",
   "execution_count": 65,
   "metadata": {},
   "outputs": [],
   "source": [
    "# sns.pairplot(final_dataset)\n",
    "corrmat=final.corr()\n",
    "top_corr_features = corrmat.index"
   ]
  },
  {
   "cell_type": "code",
   "execution_count": 66,
   "metadata": {
    "scrolled": false
   },
   "outputs": [
    {
     "data": {
      "image/png": "[encoded data removed]",
      "text/plain": [
       "<Figure size 1440x1440 with 2 Axes>"
      ]
     },
     "metadata": {
      "needs_background": "light"
     },
     "output_type": "display_data"
    }
   ],
   "source": [
    "\n",
    "#get correlations of each features in dataset\n",
    "plt.figure(figsize=(20,20))\n",
    "#plot heat map\n",
    "g=sns.heatmap(final_dataset.corr(),annot=True,cmap=\"RdYlGn\")"
   ]
  },
  {
   "cell_type": "markdown",
   "metadata": {},
   "source": [
    "***Figure:***\n",
    "Correlation coefficient shows SMS recieved, time_diff_days,Appointment ID are highly correlated. However AppointmentID and time_diff_days are autocorrelated and has no physical meaning, should be removed frmo trainning set"
   ]
  },
  {
   "cell_type": "code",
   "execution_count": 67,
   "metadata": {},
   "outputs": [],
   "source": [
    "X=final.iloc[:,2:]\n",
    "y=final.iloc[:,:1]"
   ]
  },
  {
   "cell_type": "code",
   "execution_count": 68,
   "metadata": {
    "scrolled": true
   },
   "outputs": [],
   "source": [
    "# remove negative value from Age\n",
    "X['Age']=X['Age'].apply(lambda x: x if x>0 else 0)\n",
    "# plt.hist(X['Age'],histtype='bar')"
   ]
  },
  {
   "cell_type": "markdown",
   "metadata": {},
   "source": [
    "Figure:Remove Negative Age from age column"
   ]
  },
  {
   "cell_type": "code",
   "execution_count": 69,
   "metadata": {},
   "outputs": [
    {
     "data": {
      "text/html": [
       "<div>\n",
       "<style scoped>\n",
       "    .dataframe tbody tr th:only-of-type {\n",
       "        vertical-align: middle;\n",
       "    }\n",
       "\n",
       "    .dataframe tbody tr th {\n",
       "        vertical-align: top;\n",
       "    }\n",
       "\n",
       "    .dataframe thead th {\n",
       "        text-align: right;\n",
       "    }\n",
       "</style>\n",
       "<table border=\"1\" class=\"dataframe\">\n",
       "  <thead>\n",
       "    <tr style=\"text-align: right;\">\n",
       "      <th></th>\n",
       "      <th>NoShow</th>\n",
       "    </tr>\n",
       "  </thead>\n",
       "  <tbody>\n",
       "    <tr>\n",
       "      <th>0</th>\n",
       "      <td>0</td>\n",
       "    </tr>\n",
       "    <tr>\n",
       "      <th>1</th>\n",
       "      <td>0</td>\n",
       "    </tr>\n",
       "    <tr>\n",
       "      <th>2</th>\n",
       "      <td>0</td>\n",
       "    </tr>\n",
       "    <tr>\n",
       "      <th>3</th>\n",
       "      <td>0</td>\n",
       "    </tr>\n",
       "    <tr>\n",
       "      <th>4</th>\n",
       "      <td>0</td>\n",
       "    </tr>\n",
       "  </tbody>\n",
       "</table>\n",
       "</div>"
      ],
      "text/plain": [
       "   NoShow\n",
       "0       0\n",
       "1       0\n",
       "2       0\n",
       "3       0\n",
       "4       0"
      ]
     },
     "execution_count": 69,
     "metadata": {},
     "output_type": "execute_result"
    }
   ],
   "source": [
    "y.head()"
   ]
  },
  {
   "cell_type": "code",
   "execution_count": 70,
   "metadata": {
    "scrolled": true
   },
   "outputs": [
    {
     "data": {
      "text/plain": [
       "(array([5.79071721e+03, 1.20179079e+02, 8.46014891e+01, 1.13087858e+02,\n",
       "        2.36385024e+01, 4.11876448e-03, 4.78646625e+00, 1.19957265e+03,\n",
       "        8.49159406e+04, 3.03779312e+02, 1.21863194e+00, 1.51782804e-01,\n",
       "        4.11032237e+00, 2.78761771e-03]),\n",
       " array([0.00000000e+000, 5.78001137e-028, 3.64990231e-020, 2.06422351e-026,\n",
       "        1.16238336e-006, 9.48828812e-001, 2.86842171e-002, 7.55395178e-263,\n",
       "        0.00000000e+000, 4.94770206e-068, 2.69629302e-001, 6.96837436e-001,\n",
       "        4.26222375e-002, 9.57892939e-001]))"
      ]
     },
     "execution_count": 70,
     "metadata": {},
     "output_type": "execute_result"
    }
   ],
   "source": [
    "from sklearn.feature_selection import chi2\n",
    "f_p_values=chi2(X,y)\n",
    "f_p_values\n"
   ]
  },
  {
   "cell_type": "code",
   "execution_count": 71,
   "metadata": {
    "scrolled": false
   },
   "outputs": [
    {
     "data": {
      "text/plain": [
       "<matplotlib.lines.Line2D at 0x126ee2670>"
      ]
     },
     "execution_count": 71,
     "metadata": {},
     "output_type": "execute_result"
    },
    {
     "data": {
      "image/png": "[encoded data removed]",
      "text/plain": [
       "<Figure size 1440x288 with 1 Axes>"
      ]
     },
     "metadata": {
      "needs_background": "light"
     },
     "output_type": "display_data"
    }
   ],
   "source": [
    "import pandas as pd\n",
    "p_values=pd.Series(f_p_values[1])\n",
    "p_values.index=X.columns\n",
    "p_values\n",
    "axes = (1-p_values).sort_values(ascending=False).plot.bar(figsize=(20, 4))\n",
    "axes.set_ylim([0,1.2])\n",
    "axes.set_ylabel('1-Pvalue')\n",
    "plt.axhline(y = 0.95, color = 'r', linestyle = '-')\n"
   ]
  },
  {
   "cell_type": "markdown",
   "metadata": {},
   "source": [
    "#### Conclusion: Chi Square Test indicates the features are different between group of show-no-show should be incldue into model"
   ]
  },
  {
   "cell_type": "markdown",
   "metadata": {},
   "source": [
    "### Split Training and Testing sets"
   ]
  },
  {
   "cell_type": "code",
   "execution_count": 72,
   "metadata": {},
   "outputs": [],
   "source": [
    "from sklearn.model_selection import train_test_split\n",
    "X_train, X_test, y_train, y_test = train_test_split(X, y, test_size=0.30, random_state=101)"
   ]
  },
  {
   "cell_type": "code",
   "execution_count": 73,
   "metadata": {
    "scrolled": true
   },
   "outputs": [
    {
     "data": {
      "text/plain": [
       "NoShow\n",
       "0         61646\n",
       "1         15722\n",
       "dtype: int64"
      ]
     },
     "execution_count": 73,
     "metadata": {},
     "output_type": "execute_result"
    }
   ],
   "source": [
    "y_train.value_counts()"
   ]
  },
  {
   "cell_type": "markdown",
   "metadata": {},
   "source": [
    "### Feature Importance Evaluation and Selection: Method 1"
   ]
  },
  {
   "cell_type": "markdown",
   "metadata": {},
   "source": [
    "** Train and fit a logistic regression model on the training set.**"
   ]
  },
  {
   "cell_type": "markdown",
   "metadata": {},
   "source": [
    "###Evaluate feature importance from information gain\n",
    "\n",
    "https://github.com/krishnaik06/Complete-Feature-Selection/blob/master/3-%20Information%20gain%20-%20mutual%20information%20In%20Classification.ipynb"
   ]
  },
  {
   "cell_type": "code",
   "execution_count": 74,
   "metadata": {},
   "outputs": [],
   "source": [
    "from sklearn.feature_selection import mutual_info_classif"
   ]
  },
  {
   "cell_type": "code",
   "execution_count": 75,
   "metadata": {},
   "outputs": [
    {
     "data": {
      "text/html": [
       "<div>\n",
       "<style scoped>\n",
       "    .dataframe tbody tr th:only-of-type {\n",
       "        vertical-align: middle;\n",
       "    }\n",
       "\n",
       "    .dataframe tbody tr th {\n",
       "        vertical-align: top;\n",
       "    }\n",
       "\n",
       "    .dataframe thead th {\n",
       "        text-align: right;\n",
       "    }\n",
       "</style>\n",
       "<table border=\"1\" class=\"dataframe\">\n",
       "  <thead>\n",
       "    <tr style=\"text-align: right;\">\n",
       "      <th></th>\n",
       "      <th>Age</th>\n",
       "      <th>LocationID</th>\n",
       "      <th>MedicaidIND</th>\n",
       "      <th>Hypertension</th>\n",
       "      <th>Diabetes</th>\n",
       "      <th>Alcoholism</th>\n",
       "      <th>Disability</th>\n",
       "      <th>SMS_received</th>\n",
       "      <th>time_diff_days</th>\n",
       "      <th>Month</th>\n",
       "      <th>GenderC</th>\n",
       "      <th>appt_wd</th>\n",
       "      <th>schedule_wd</th>\n",
       "      <th>PatientIDLength</th>\n",
       "    </tr>\n",
       "  </thead>\n",
       "  <tbody>\n",
       "    <tr>\n",
       "      <th>66733</th>\n",
       "      <td>44</td>\n",
       "      <td>39</td>\n",
       "      <td>0</td>\n",
       "      <td>0</td>\n",
       "      <td>0</td>\n",
       "      <td>0</td>\n",
       "      <td>0</td>\n",
       "      <td>0</td>\n",
       "      <td>0</td>\n",
       "      <td>5</td>\n",
       "      <td>0</td>\n",
       "      <td>2</td>\n",
       "      <td>2</td>\n",
       "      <td>13</td>\n",
       "    </tr>\n",
       "    <tr>\n",
       "      <th>77363</th>\n",
       "      <td>68</td>\n",
       "      <td>74</td>\n",
       "      <td>0</td>\n",
       "      <td>1</td>\n",
       "      <td>0</td>\n",
       "      <td>0</td>\n",
       "      <td>0</td>\n",
       "      <td>0</td>\n",
       "      <td>4</td>\n",
       "      <td>5</td>\n",
       "      <td>0</td>\n",
       "      <td>2</td>\n",
       "      <td>4</td>\n",
       "      <td>14</td>\n",
       "    </tr>\n",
       "    <tr>\n",
       "      <th>25480</th>\n",
       "      <td>45</td>\n",
       "      <td>38</td>\n",
       "      <td>0</td>\n",
       "      <td>0</td>\n",
       "      <td>0</td>\n",
       "      <td>0</td>\n",
       "      <td>0</td>\n",
       "      <td>0</td>\n",
       "      <td>0</td>\n",
       "      <td>5</td>\n",
       "      <td>1</td>\n",
       "      <td>0</td>\n",
       "      <td>0</td>\n",
       "      <td>16</td>\n",
       "    </tr>\n",
       "    <tr>\n",
       "      <th>93223</th>\n",
       "      <td>67</td>\n",
       "      <td>43</td>\n",
       "      <td>0</td>\n",
       "      <td>0</td>\n",
       "      <td>0</td>\n",
       "      <td>0</td>\n",
       "      <td>0</td>\n",
       "      <td>1</td>\n",
       "      <td>4</td>\n",
       "      <td>6</td>\n",
       "      <td>1</td>\n",
       "      <td>0</td>\n",
       "      <td>2</td>\n",
       "      <td>16</td>\n",
       "    </tr>\n",
       "    <tr>\n",
       "      <th>22559</th>\n",
       "      <td>52</td>\n",
       "      <td>62</td>\n",
       "      <td>0</td>\n",
       "      <td>1</td>\n",
       "      <td>0</td>\n",
       "      <td>0</td>\n",
       "      <td>0</td>\n",
       "      <td>0</td>\n",
       "      <td>3</td>\n",
       "      <td>5</td>\n",
       "      <td>0</td>\n",
       "      <td>0</td>\n",
       "      <td>3</td>\n",
       "      <td>13</td>\n",
       "    </tr>\n",
       "    <tr>\n",
       "      <th>...</th>\n",
       "      <td>...</td>\n",
       "      <td>...</td>\n",
       "      <td>...</td>\n",
       "      <td>...</td>\n",
       "      <td>...</td>\n",
       "      <td>...</td>\n",
       "      <td>...</td>\n",
       "      <td>...</td>\n",
       "      <td>...</td>\n",
       "      <td>...</td>\n",
       "      <td>...</td>\n",
       "      <td>...</td>\n",
       "      <td>...</td>\n",
       "      <td>...</td>\n",
       "    </tr>\n",
       "    <tr>\n",
       "      <th>5695</th>\n",
       "      <td>41</td>\n",
       "      <td>10</td>\n",
       "      <td>0</td>\n",
       "      <td>0</td>\n",
       "      <td>0</td>\n",
       "      <td>0</td>\n",
       "      <td>0</td>\n",
       "      <td>1</td>\n",
       "      <td>6</td>\n",
       "      <td>5</td>\n",
       "      <td>1</td>\n",
       "      <td>1</td>\n",
       "      <td>1</td>\n",
       "      <td>15</td>\n",
       "    </tr>\n",
       "    <tr>\n",
       "      <th>73542</th>\n",
       "      <td>58</td>\n",
       "      <td>45</td>\n",
       "      <td>0</td>\n",
       "      <td>0</td>\n",
       "      <td>0</td>\n",
       "      <td>0</td>\n",
       "      <td>0</td>\n",
       "      <td>1</td>\n",
       "      <td>4</td>\n",
       "      <td>4</td>\n",
       "      <td>0</td>\n",
       "      <td>1</td>\n",
       "      <td>3</td>\n",
       "      <td>15</td>\n",
       "    </tr>\n",
       "    <tr>\n",
       "      <th>83281</th>\n",
       "      <td>67</td>\n",
       "      <td>16</td>\n",
       "      <td>0</td>\n",
       "      <td>1</td>\n",
       "      <td>1</td>\n",
       "      <td>0</td>\n",
       "      <td>0</td>\n",
       "      <td>0</td>\n",
       "      <td>21</td>\n",
       "      <td>5</td>\n",
       "      <td>0</td>\n",
       "      <td>2</td>\n",
       "      <td>1</td>\n",
       "      <td>15</td>\n",
       "    </tr>\n",
       "    <tr>\n",
       "      <th>83467</th>\n",
       "      <td>30</td>\n",
       "      <td>37</td>\n",
       "      <td>0</td>\n",
       "      <td>0</td>\n",
       "      <td>0</td>\n",
       "      <td>0</td>\n",
       "      <td>0</td>\n",
       "      <td>0</td>\n",
       "      <td>3</td>\n",
       "      <td>5</td>\n",
       "      <td>0</td>\n",
       "      <td>0</td>\n",
       "      <td>3</td>\n",
       "      <td>16</td>\n",
       "    </tr>\n",
       "    <tr>\n",
       "      <th>45919</th>\n",
       "      <td>26</td>\n",
       "      <td>11</td>\n",
       "      <td>0</td>\n",
       "      <td>0</td>\n",
       "      <td>0</td>\n",
       "      <td>0</td>\n",
       "      <td>0</td>\n",
       "      <td>0</td>\n",
       "      <td>0</td>\n",
       "      <td>5</td>\n",
       "      <td>0</td>\n",
       "      <td>4</td>\n",
       "      <td>4</td>\n",
       "      <td>15</td>\n",
       "    </tr>\n",
       "  </tbody>\n",
       "</table>\n",
       "<p>77368 rows × 14 columns</p>\n",
       "</div>"
      ],
      "text/plain": [
       "       Age  LocationID  MedicaidIND  Hypertension  Diabetes  Alcoholism  \\\n",
       "66733   44          39            0             0         0           0   \n",
       "77363   68          74            0             1         0           0   \n",
       "25480   45          38            0             0         0           0   \n",
       "93223   67          43            0             0         0           0   \n",
       "22559   52          62            0             1         0           0   \n",
       "...    ...         ...          ...           ...       ...         ...   \n",
       "5695    41          10            0             0         0           0   \n",
       "73542   58          45            0             0         0           0   \n",
       "83281   67          16            0             1         1           0   \n",
       "83467   30          37            0             0         0           0   \n",
       "45919   26          11            0             0         0           0   \n",
       "\n",
       "       Disability  SMS_received  time_diff_days  Month  GenderC  appt_wd  \\\n",
       "66733           0             0               0      5        0        2   \n",
       "77363           0             0               4      5        0        2   \n",
       "25480           0             0               0      5        1        0   \n",
       "93223           0             1               4      6        1        0   \n",
       "22559           0             0               3      5        0        0   \n",
       "...           ...           ...             ...    ...      ...      ...   \n",
       "5695            0             1               6      5        1        1   \n",
       "73542           0             1               4      4        0        1   \n",
       "83281           0             0              21      5        0        2   \n",
       "83467           0             0               3      5        0        0   \n",
       "45919           0             0               0      5        0        4   \n",
       "\n",
       "       schedule_wd  PatientIDLength  \n",
       "66733            2               13  \n",
       "77363            4               14  \n",
       "25480            0               16  \n",
       "93223            2               16  \n",
       "22559            3               13  \n",
       "...            ...              ...  \n",
       "5695             1               15  \n",
       "73542            3               15  \n",
       "83281            1               15  \n",
       "83467            3               16  \n",
       "45919            4               15  \n",
       "\n",
       "[77368 rows x 14 columns]"
      ]
     },
     "execution_count": 75,
     "metadata": {},
     "output_type": "execute_result"
    }
   ],
   "source": [
    "X_train"
   ]
  },
  {
   "cell_type": "code",
   "execution_count": 76,
   "metadata": {
    "scrolled": true
   },
   "outputs": [
    {
     "data": {
      "text/plain": [
       "array([5.35274548e-03, 5.13948115e-03, 1.16952451e-03, 4.23710305e-03,\n",
       "       5.42500118e-04, 8.03993978e-04, 8.47980840e-05, 1.04246654e-02,\n",
       "       4.68666916e-02, 2.16697471e-02, 8.43928133e-04, 2.88919023e-03,\n",
       "       1.64836407e-03, 3.29912030e-03])"
      ]
     },
     "execution_count": 76,
     "metadata": {},
     "output_type": "execute_result"
    }
   ],
   "source": [
    "\n",
    "# determine the mutual information\n",
    "mutual_info = mutual_info_classif(X_train, y_train.values.ravel())\n",
    "mutual_info"
   ]
  },
  {
   "cell_type": "code",
   "execution_count": 77,
   "metadata": {
    "scrolled": true
   },
   "outputs": [
    {
     "data": {
      "text/plain": [
       "<AxesSubplot:>"
      ]
     },
     "execution_count": 77,
     "metadata": {},
     "output_type": "execute_result"
    },
    {
     "data": {
      "image/png": "[encoded data removed]",
      "text/plain": [
       "<Figure size 1440x288 with 1 Axes>"
      ]
     },
     "metadata": {
      "needs_background": "light"
     },
     "output_type": "display_data"
    }
   ],
   "source": [
    "mutual_info = pd.Series(mutual_info)\n",
    "mutual_info.index = X_train.columns\n",
    "mutual_info.sort_values(ascending=False)\n",
    "mutual_info.sort_values(ascending=False).plot.bar(figsize=(20, 4))"
   ]
  },
  {
   "cell_type": "code",
   "execution_count": 78,
   "metadata": {},
   "outputs": [],
   "source": [
    "from sklearn.feature_selection import SelectKBest"
   ]
  },
  {
   "cell_type": "code",
   "execution_count": 79,
   "metadata": {
    "scrolled": true
   },
   "outputs": [
    {
     "data": {
      "text/plain": [
       "Index(['Alcoholism', 'SMS_received', 'time_diff_days', 'Month', 'GenderC',\n",
       "       'schedule_wd'],\n",
       "      dtype='object')"
      ]
     },
     "execution_count": 79,
     "metadata": {},
     "output_type": "execute_result"
    }
   ],
   "source": [
    "sel_five_cols = SelectKBest(mutual_info_classif, k=6)\n",
    "sel_five_cols.fit(X_train, y_train.values.ravel())\n",
    "X_train.columns[sel_five_cols.get_support()]"
   ]
  },
  {
   "cell_type": "code",
   "execution_count": 80,
   "metadata": {},
   "outputs": [
    {
     "data": {
      "text/plain": [
       "Index(['Age', 'LocationID', 'MedicaidIND', 'Hypertension', 'Diabetes',\n",
       "       'Alcoholism', 'Disability', 'SMS_received', 'time_diff_days', 'Month',\n",
       "       'GenderC', 'appt_wd', 'schedule_wd', 'PatientIDLength'],\n",
       "      dtype='object')"
      ]
     },
     "execution_count": 80,
     "metadata": {},
     "output_type": "execute_result"
    }
   ],
   "source": [
    "X_train.columns"
   ]
  },
  {
   "cell_type": "markdown",
   "metadata": {},
   "source": [
    "### Feature Selection Method 2: Random Forest Classification for feature importance"
   ]
  },
  {
   "cell_type": "code",
   "execution_count": 81,
   "metadata": {},
   "outputs": [],
   "source": [
    "from sklearn import svm\n",
    "from sklearn.ensemble import RandomForestClassifier\n",
    "from sklearn.linear_model import LogisticRegression\n",
    "from sklearn.naive_bayes import GaussianNB\n",
    "from sklearn.naive_bayes import MultinomialNB\n",
    "from sklearn.tree import DecisionTreeClassifier"
   ]
  },
  {
   "cell_type": "code",
   "execution_count": 82,
   "metadata": {},
   "outputs": [
    {
     "name": "stdout",
     "output_type": "stream",
     "text": [
      "[[26070   492]\n",
      " [ 6025   572]]\n",
      "0.8034621068186616\n"
     ]
    }
   ],
   "source": [
    "rfcmodel = RandomForestClassifier(n_estimators=100, criterion='gini', min_samples_split=5, \n",
    "                                  min_samples_leaf=2, max_features='sqrt', bootstrap=True, n_jobs=-1, random_state=42)\n",
    "rfcmodel.fit(X_train,y_train.values.ravel())\n",
    "y_pred_test = rfcmodel.predict(X_test)\n",
    "\n",
    "from sklearn.metrics import confusion_matrix\n",
    "print(confusion_matrix(y_test, y_pred_test))\n",
    "from sklearn import metrics\n",
    "print(metrics.accuracy_score(y_test, y_pred_test))"
   ]
  },
  {
   "cell_type": "code",
   "execution_count": 83,
   "metadata": {},
   "outputs": [
    {
     "data": {
      "image/png": "[encoded data removed]",
      "text/plain": [
       "<Figure size 1332x756 with 1 Axes>"
      ]
     },
     "metadata": {
      "needs_background": "light"
     },
     "output_type": "display_data"
    }
   ],
   "source": [
    "importances = rfcmodel.feature_importances_\n",
    "feature_names=X_train.columns\n",
    "std = np.std([\n",
    "    tree.feature_importances_ for tree in rfcmodel.estimators_], axis=0)\n",
    "# elapsed_time = time.time() - start_time\n",
    "\n",
    "# print(f\"Elapsed time to compute the importances: \"\n",
    "#       f\"{elapsed_time:.3f} seconds\")\n",
    "\n",
    "from sklearn.inspection import permutation_importance\n",
    "forest_importances = pd.Series(importances, index=feature_names)\n",
    "\n",
    "fig, ax = plt.subplots()\n",
    "forest_importances.sort_values(ascending=False).plot.bar(yerr=std, ax=ax)\n",
    "ax.set_title(\"Feature importances using MDI\")\n",
    "ax.set_ylabel(\"Mean decrease in impurity\")\n",
    "fig.tight_layout()\n",
    "fig.set_size_inches(18.5, 10.5)"
   ]
  },
  {
   "cell_type": "markdown",
   "metadata": {},
   "source": [
    "#### Conclustion: Comparing with Cycle 1; the new features could improve the prediction. It looks promising... "
   ]
  },
  {
   "cell_type": "code",
   "execution_count": 84,
   "metadata": {},
   "outputs": [],
   "source": [
    "from sklearn.ensemble import RandomForestClassifier\n",
    "from sklearn.datasets import make_classification\n",
    "from sklearn import model_selection\n",
    "\n",
    "\n",
    "# random forest model creation\n",
    "# https://towardsdatascience.com/hyperparameter-tuning-the-random-forest-in-python-using-scikit-learn-28d2aa77dd74\n",
    "    \n",
    "rfc = RandomForestClassifier()\n",
    "rfc.fit(X_train,y_train.values.ravel())\n",
    "# predictions\n",
    "rfc_predict = rfc.predict(X_test)\n"
   ]
  },
  {
   "cell_type": "code",
   "execution_count": 85,
   "metadata": {},
   "outputs": [
    {
     "name": "stdout",
     "output_type": "stream",
     "text": [
      "=== Confusion Matrix ===\n",
      "[[25210  1352]\n",
      " [ 5569  1028]]\n",
      "\n",
      "\n",
      "=== Classification Report ===\n",
      "              precision    recall  f1-score   support\n",
      "\n",
      "           0       0.82      0.95      0.88     26562\n",
      "           1       0.43      0.16      0.23      6597\n",
      "\n",
      "    accuracy                           0.79     33159\n",
      "   macro avg       0.63      0.55      0.55     33159\n",
      "weighted avg       0.74      0.79      0.75     33159\n",
      "\n",
      "\n",
      "\n",
      "=== All AUC Scores ===\n",
      "[0.71079    0.7170891  0.71918834 0.72662665 0.71947447 0.72007733\n",
      " 0.7181033  0.72408496 0.72900216 0.72824843]\n",
      "\n",
      "\n",
      "=== Mean AUC Score ===\n",
      "Mean AUC Score - Random Forest:  0.721268475381668\n"
     ]
    }
   ],
   "source": [
    "from sklearn.model_selection import cross_val_score\n",
    "from sklearn.metrics import classification_report, confusion_matrix\n",
    "\n",
    "rfc_cv_score = cross_val_score(rfc, X_train,y_train.values.ravel(), cv=10, scoring='roc_auc')\n",
    "\n",
    "\n",
    "print(\"=== Confusion Matrix ===\")\n",
    "print(confusion_matrix(y_test, rfc_predict))\n",
    "print('\\n')\n",
    "print(\"=== Classification Report ===\")\n",
    "print(classification_report(y_test, rfc_predict))\n",
    "print('\\n')\n",
    "print(\"=== All AUC Scores ===\")\n",
    "print(rfc_cv_score)\n",
    "print('\\n')\n",
    "print(\"=== Mean AUC Score ===\")\n",
    "print(\"Mean AUC Score - Random Forest: \", rfc_cv_score.mean())"
   ]
  },
  {
   "cell_type": "code",
   "execution_count": 86,
   "metadata": {},
   "outputs": [],
   "source": [
    "#https://blog.dataiku.com/narrowing-the-search-which-hyperparameters-really-matter\n",
    "# https://github.com/codebasics/py/blob/master/ML/15_gridsearch/Exercise/15_grid_search_cv_exercise.ipynb"
   ]
  },
  {
   "cell_type": "markdown",
   "metadata": {},
   "source": [
    "### Model Selection"
   ]
  },
  {
   "cell_type": "code",
   "execution_count": 87,
   "metadata": {},
   "outputs": [
    {
     "data": {
      "application/javascript": "IPython.notebook.execute_cells_below()",
      "text/plain": [
       "<IPython.core.display.Javascript object>"
      ]
     },
     "metadata": {},
     "output_type": "display_data"
    }
   ],
   "source": [
    "from IPython.display import Javascript\n",
    "display(Javascript('IPython.notebook.execute_cells_below()'))"
   ]
  },
  {
   "cell_type": "code",
   "execution_count": 88,
   "metadata": {},
   "outputs": [],
   "source": [
    "model_params = {\n",
    "#     'svm': {\n",
    "#         'model': svm.SVC(gamma='auto'),\n",
    "#         'params' : {\n",
    "#             'C': [10],  #1,10,20\n",
    "#             'kernel': ['rbf'] #'rbf','linear'\n",
    "#         }  \n",
    "#     },\n",
    "    'random_forest': {\n",
    "        'model': RandomForestClassifier(),\n",
    "        'params' : {\n",
    "        'n_estimators': [100], #\n",
    "        # Number of features to consider at every split\n",
    "        'max_features' : ['auto'],\n",
    "        # Minimum number of samples required at each leaf node\n",
    "        'min_samples_leaf' : [2]\n",
    "\n",
    "        }\n",
    "    },\n",
    "    'logistic_regression' : {\n",
    "        'model': LogisticRegression(solver='liblinear',multi_class='auto'),\n",
    "        'params': {\n",
    "            'C': [1,5,10]\n",
    "        }\n",
    "    },\n",
    "    'naive_bayes_gaussian': {\n",
    "        'model': GaussianNB(),\n",
    "        'params': {}\n",
    "    },\n",
    "    'decision_tree': {\n",
    "        'model': DecisionTreeClassifier(),\n",
    "        'params': {\n",
    "            'criterion': ['gini','entropy'],\n",
    "            \n",
    "        }\n",
    "    }     \n",
    "}"
   ]
  },
  {
   "cell_type": "code",
   "execution_count": 89,
   "metadata": {
    "scrolled": true
   },
   "outputs": [
    {
     "data": {
      "text/html": [
       "<div>\n",
       "<style scoped>\n",
       "    .dataframe tbody tr th:only-of-type {\n",
       "        vertical-align: middle;\n",
       "    }\n",
       "\n",
       "    .dataframe tbody tr th {\n",
       "        vertical-align: top;\n",
       "    }\n",
       "\n",
       "    .dataframe thead th {\n",
       "        text-align: right;\n",
       "    }\n",
       "</style>\n",
       "<table border=\"1\" class=\"dataframe\">\n",
       "  <thead>\n",
       "    <tr style=\"text-align: right;\">\n",
       "      <th></th>\n",
       "      <th>model</th>\n",
       "      <th>best_score</th>\n",
       "      <th>best_params</th>\n",
       "    </tr>\n",
       "  </thead>\n",
       "  <tbody>\n",
       "    <tr>\n",
       "      <th>0</th>\n",
       "      <td>random_forest</td>\n",
       "      <td>0.797966</td>\n",
       "      <td>{'max_features': 'auto', 'min_samples_leaf': 2...</td>\n",
       "    </tr>\n",
       "    <tr>\n",
       "      <th>1</th>\n",
       "      <td>logistic_regression</td>\n",
       "      <td>0.793493</td>\n",
       "      <td>{'C': 10}</td>\n",
       "    </tr>\n",
       "    <tr>\n",
       "      <th>2</th>\n",
       "      <td>naive_bayes_gaussian</td>\n",
       "      <td>0.762253</td>\n",
       "      <td>{}</td>\n",
       "    </tr>\n",
       "    <tr>\n",
       "      <th>3</th>\n",
       "      <td>decision_tree</td>\n",
       "      <td>0.717816</td>\n",
       "      <td>{'criterion': 'entropy'}</td>\n",
       "    </tr>\n",
       "  </tbody>\n",
       "</table>\n",
       "</div>"
      ],
      "text/plain": [
       "                  model  best_score  \\\n",
       "0         random_forest    0.797966   \n",
       "1   logistic_regression    0.793493   \n",
       "2  naive_bayes_gaussian    0.762253   \n",
       "3         decision_tree    0.717816   \n",
       "\n",
       "                                         best_params  \n",
       "0  {'max_features': 'auto', 'min_samples_leaf': 2...  \n",
       "1                                          {'C': 10}  \n",
       "2                                                 {}  \n",
       "3                           {'criterion': 'entropy'}  "
      ]
     },
     "execution_count": 89,
     "metadata": {},
     "output_type": "execute_result"
    }
   ],
   "source": [
    "from sklearn.model_selection import GridSearchCV\n",
    "import pandas as pd\n",
    "scores = []\n",
    "\n",
    "for model_name, mp in model_params.items():\n",
    "    clf =  GridSearchCV(mp['model'], mp['params'], cv=3, return_train_score=True)\n",
    "    clf.fit(X_train, y_train.values.ravel())\n",
    "    scores.append({\n",
    "        'model': model_name,\n",
    "        'best_score': clf.best_score_,\n",
    "        'best_params': clf.best_params_\n",
    "    })\n",
    "    \n",
    "df = pd.DataFrame(scores,columns=['model','best_score','best_params'])\n",
    "df"
   ]
  },
  {
   "cell_type": "markdown",
   "metadata": {},
   "source": [
    "#### RandomForest outperform other models in our preliminary tests"
   ]
  },
  {
   "cell_type": "markdown",
   "metadata": {},
   "source": [
    "### HyperParameters Fine Tuning for RandomForest"
   ]
  },
  {
   "cell_type": "code",
   "execution_count": 90,
   "metadata": {},
   "outputs": [
    {
     "name": "stdout",
     "output_type": "stream",
     "text": [
      "[[26070   492]\n",
      " [ 6025   572]]\n",
      "0.8034621068186616\n"
     ]
    }
   ],
   "source": [
    "rfcmodel = RandomForestClassifier(n_estimators=100, criterion='gini', min_samples_split=5, \n",
    "                                  min_samples_leaf=2, max_features='sqrt', bootstrap=True, n_jobs=-1, random_state=42)\n",
    "rfcmodel.fit(X_train,y_train.values.ravel())\n",
    "y_pred_test = rfcmodel.predict(X_test)\n",
    "\n",
    "from sklearn.metrics import confusion_matrix\n",
    "print(confusion_matrix(y_test, y_pred_test))\n",
    "from sklearn import metrics\n",
    "print(metrics.accuracy_score(y_test, y_pred_test))"
   ]
  },
  {
   "cell_type": "code",
   "execution_count": 91,
   "metadata": {},
   "outputs": [
    {
     "name": "stdout",
     "output_type": "stream",
     "text": [
      "=== Confusion Matrix ===\n",
      "[[26070   492]\n",
      " [ 6025   572]]\n",
      "\n",
      "\n",
      "=== Classification Report ===\n",
      "              precision    recall  f1-score   support\n",
      "\n",
      "           0       0.81      0.98      0.89     26562\n",
      "           1       0.54      0.09      0.15      6597\n",
      "\n",
      "    accuracy                           0.80     33159\n",
      "   macro avg       0.67      0.53      0.52     33159\n",
      "weighted avg       0.76      0.80      0.74     33159\n",
      "\n",
      "\n",
      "\n",
      "=== All AUC Scores ===\n",
      "[0.72773618 0.73138867 0.72992054 0.73041491 0.73816782]\n",
      "\n",
      "\n",
      "=== Mean AUC Score ===\n",
      "Mean AUC Score - Random Forest:  0.7315256243126333\n"
     ]
    }
   ],
   "source": [
    "rfc_cv_score = cross_val_score(rfcmodel, X_train,y_train.values.ravel(), cv=5, scoring='roc_auc')\n",
    "print(\"=== Confusion Matrix ===\")\n",
    "print(confusion_matrix(y_test, y_pred_test))\n",
    "print('\\n')\n",
    "print(\"=== Classification Report ===\")\n",
    "print(classification_report(y_test, y_pred_test))\n",
    "print('\\n')\n",
    "print(\"=== All AUC Scores ===\")\n",
    "print(rfc_cv_score)\n",
    "print('\\n')\n",
    "print(\"=== Mean AUC Score ===\")\n",
    "print(\"Mean AUC Score - Random Forest: \", rfc_cv_score.mean())"
   ]
  },
  {
   "cell_type": "code",
   "execution_count": 92,
   "metadata": {},
   "outputs": [
    {
     "data": {
      "image/png": "[encoded data removed]",
      "text/plain": [
       "<Figure size 1332x756 with 1 Axes>"
      ]
     },
     "metadata": {
      "needs_background": "light"
     },
     "output_type": "display_data"
    }
   ],
   "source": [
    "importances = rfcmodel.feature_importances_\n",
    "feature_names=X_train.columns\n",
    "std = np.std([\n",
    "    tree.feature_importances_ for tree in rfcmodel.estimators_], axis=0)\n",
    "# elapsed_time = time.time() - start_time\n",
    "\n",
    "# print(f\"Elapsed time to compute the importances: \"\n",
    "#       f\"{elapsed_time:.3f} seconds\")\n",
    "\n",
    "from sklearn.inspection import permutation_importance\n",
    "forest_importances = pd.Series(importances, index=feature_names)\n",
    "\n",
    "fig, ax = plt.subplots()\n",
    "forest_importances.sort_values(ascending=False).plot.bar(yerr=std, ax=ax)\n",
    "ax.set_title(\"Feature importances using MDI\")\n",
    "ax.set_ylabel(\"Mean decrease in impurity\")\n",
    "fig.tight_layout()\n",
    "fig.set_size_inches(18.5, 10.5)"
   ]
  },
  {
   "cell_type": "markdown",
   "metadata": {},
   "source": [
    "### Prepare pickle dump file for app deployment"
   ]
  },
  {
   "cell_type": "code",
   "execution_count": 93,
   "metadata": {},
   "outputs": [],
   "source": [
    "import pickle\n",
    "# open a file, where you ant to store the data\n",
    "file = open('random_forest_classification_model.pkl', 'wb')\n",
    "\n",
    "# dump information to that file\n",
    "pickle.dump(rfcmodel, file)"
   ]
  }
 ],
 "metadata": {
  "kernelspec": {
   "display_name": "Python 3",
   "language": "python",
   "name": "python3"
  },
  "language_info": {
   "codemirror_mode": {
    "name": "ipython",
    "version": 3
   },
   "file_extension": ".py",
   "mimetype": "text/x-python",
   "name": "python",
   "nbconvert_exporter": "python",
   "pygments_lexer": "ipython3",
   "version": "3.8.8"
  }
 },
 "nbformat": 4,
 "nbformat_minor": 4
}
